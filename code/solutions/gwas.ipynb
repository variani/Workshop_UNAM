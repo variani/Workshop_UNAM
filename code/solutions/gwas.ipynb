{
 "cells": [
  {
   "cell_type": "markdown",
   "id": "a37916ee",
   "metadata": {},
   "source": [
    "# About"
   ]
  },
  {
   "cell_type": "markdown",
   "id": "a0bead75",
   "metadata": {},
   "source": [
    "The exercises in this notebook were adopted from: https://github.com/joellembatchou/SISG2022_Association_Mapping/blob/master/code/Session03_exercises.R "
   ]
  },
  {
   "cell_type": "markdown",
   "id": "230f4d6a",
   "metadata": {},
   "source": [
    "# Set up"
   ]
  },
  {
   "cell_type": "markdown",
   "id": "27c726e2",
   "metadata": {},
   "source": [
    "## Paths"
   ]
  },
  {
   "cell_type": "code",
   "execution_count": 1,
   "id": "9356d10c",
   "metadata": {},
   "outputs": [],
   "source": [
    "DIR_MAIN = '..'"
   ]
  },
  {
   "cell_type": "code",
   "execution_count": 2,
   "id": "5aaac026",
   "metadata": {},
   "outputs": [
    {
     "name": "stdout",
     "output_type": "stream",
     "text": [
      "Workshop_regeneron_UNAM_AZ.docx\n",
      "code\n",
      "data\n",
      "material\n",
      "notes\n",
      "slides\n",
      "tools\n",
      "~$rkshop_regeneron_UNAM_AZ.docx\n"
     ]
    }
   ],
   "source": [
    "%%bash -s \"$DIR_MAIN\"\n",
    "DIR_MAIN=$1\n",
    "\n",
    "ls $DIR_MAIN"
   ]
  },
  {
   "cell_type": "markdown",
   "id": "c489e55c",
   "metadata": {},
   "source": [
    "## Tools"
   ]
  },
  {
   "cell_type": "markdown",
   "id": "981b9910",
   "metadata": {},
   "source": [
    "A list of tools: PLINK2."
   ]
  },
  {
   "cell_type": "code",
   "execution_count": 3,
   "id": "cb4d2b59",
   "metadata": {},
   "outputs": [],
   "source": [
    "PLINK = f'{DIR_MAIN}/tools/plink2'"
   ]
  },
  {
   "cell_type": "code",
   "execution_count": 4,
   "id": "5d9a6250",
   "metadata": {},
   "outputs": [
    {
     "name": "stdout",
     "output_type": "stream",
     "text": [
      "PLINK v2.00a3.7 64-bit (24 Oct 2022)\n"
     ]
    }
   ],
   "source": [
    "%%bash -s \"$PLINK\"\n",
    "PLINK=$1\n",
    "\n",
    "$PLINK --version"
   ]
  },
  {
   "cell_type": "code",
   "execution_count": 5,
   "id": "06b01b30",
   "metadata": {},
   "outputs": [],
   "source": [
    "REGENIE='/usr/local/Caskroom/miniconda/base/envs/regenie/bin/regenie'"
   ]
  },
  {
   "cell_type": "code",
   "execution_count": 6,
   "id": "8291106e",
   "metadata": {},
   "outputs": [
    {
     "name": "stdout",
     "output_type": "stream",
     "text": [
      "v3.2.6.gz\n"
     ]
    }
   ],
   "source": [
    "%%bash -s \"$REGENIE\"\n",
    "REGENIE=$1\n",
    "\n",
    "$REGENIE --version"
   ]
  },
  {
   "cell_type": "markdown",
   "id": "e120c551",
   "metadata": {},
   "source": [
    "## Datasets"
   ]
  },
  {
   "cell_type": "code",
   "execution_count": 7,
   "id": "0318d094",
   "metadata": {},
   "outputs": [],
   "source": [
    "DIR_DATA = f'{DIR_MAIN}/data/'\n",
    "D1_PHENO = f'{DIR_DATA}/sim_rels_pheno.txt'\n",
    "D1_BFILE = f'{DIR_DATA}/sim_rels_geno'\n",
    "\n",
    "D2_PHENO = f'{DIR_DATA}/bpdata.csv'"
   ]
  },
  {
   "cell_type": "markdown",
   "id": "93665901",
   "metadata": {},
   "source": [
    "## R enviroment"
   ]
  },
  {
   "cell_type": "code",
   "execution_count": 8,
   "id": "9e0a59a6",
   "metadata": {},
   "outputs": [
    {
     "name": "stdout",
     "output_type": "stream",
     "text": [
      "R version 4.3.0 (2023-04-21) -- \"Already Tomorrow\"\n",
      "Copyright (C) 2023 The R Foundation for Statistical Computing\n",
      "Platform: x86_64-apple-darwin21.6.0 (64-bit)\n",
      "\n",
      "R is free software and comes with ABSOLUTELY NO WARRANTY.\n",
      "You are welcome to redistribute it under the terms of the\n",
      "GNU General Public License versions 2 or 3.\n",
      "For more information about these matters see\n",
      "https://www.gnu.org/licenses/.\n",
      "\n"
     ]
    }
   ],
   "source": [
    "%%bash\n",
    "R --version"
   ]
  },
  {
   "cell_type": "code",
   "execution_count": 9,
   "id": "60285f52",
   "metadata": {},
   "outputs": [],
   "source": [
    " import rpy2.ipython"
   ]
  },
  {
   "cell_type": "code",
   "execution_count": 10,
   "id": "d368f97c",
   "metadata": {},
   "outputs": [],
   "source": [
    "%%capture\n",
    "%load_ext rpy2.ipython"
   ]
  },
  {
   "cell_type": "code",
   "execution_count": 11,
   "id": "36d4c0a8",
   "metadata": {},
   "outputs": [
    {
     "name": "stdout",
     "output_type": "stream",
     "text": [
      "[1] \"Hello World from R!\"\n"
     ]
    }
   ],
   "source": [
    "%%R\n",
    " print('Hello World from R!')"
   ]
  },
  {
   "cell_type": "code",
   "execution_count": 38,
   "id": "a30138ab",
   "metadata": {},
   "outputs": [],
   "source": [
    "%%R\n",
    "library(tidyverse)\n",
    "library(data.table)"
   ]
  },
  {
   "cell_type": "code",
   "execution_count": 37,
   "id": "9fab1682",
   "metadata": {},
   "outputs": [],
   "source": [
    "%%R\n",
    "library(qqman)"
   ]
  },
  {
   "cell_type": "markdown",
   "id": "3240b9c3",
   "metadata": {},
   "source": [
    "# Association tests on `bpdata`"
   ]
  },
  {
   "cell_type": "code",
   "execution_count": 14,
   "id": "8135db31",
   "metadata": {},
   "outputs": [
    {
     "name": "stdout",
     "output_type": "stream",
     "text": [
      "Classes ‘data.table’ and 'data.frame':\t1000 obs. of  16 variables:\n",
      " $ V1   : int  1 2 3 4 5 6 7 8 9 10 ...\n",
      " $ sex  : chr  \"FEMALE\" \"MALE\" \"FEMALE\" \"MALE\" ...\n",
      " $ sbp  : int  171 160 142 126 126 132 136 121 120 136 ...\n",
      " $ dbp  : int  89 99 83 71 82 89 58 87 69 88 ...\n",
      " $ snp1 : chr  \"CC\" \"TT\" \"CT\" \"CT\" ...\n",
      " $ snp2 : chr  \"TT\" \"TT\" \"TT\" \"TT\" ...\n",
      " $ snp3 : chr  \"TT\" \"CC\" \"TC\" \"CC\" ...\n",
      " $ snp4 : chr  \"TT\" NA \"CT\" NA ...\n",
      " $ snp5 : chr  \"CC\" \"CC\" \"CC\" \"CC\" ...\n",
      " $ snp6 : chr  \"GG\" \"AG\" \"AG\" \"AA\" ...\n",
      " $ snp7 : chr  \"AA\" \"AT\" \"TT\" \"TT\" ...\n",
      " $ snp8 : chr  \"TT\" \"CC\" \"CC\" \"CC\" ...\n",
      " $ snp9 : chr  \"TT\" \"CT\" \"TT\" \"TT\" ...\n",
      " $ snp10: chr  \"CC\" \"CC\" \"CT\" \"CT\" ...\n",
      " $ snp11: chr  \"TT\" \"CT\" \"TT\" \"CT\" ...\n",
      " $ bmi  : int  25 35 34 32 34 25 22 33 21 29 ...\n",
      " - attr(*, \".internal.selfref\")=<externalptr> \n"
     ]
    }
   ],
   "source": [
    "%%R -i D2_PHENO\n",
    "bp = fread(D2_PHENO)\n",
    "str(bp)"
   ]
  },
  {
   "cell_type": "markdown",
   "id": "063f1cd5",
   "metadata": {},
   "source": [
    "## Exploratory plots"
   ]
  },
  {
   "cell_type": "code",
   "execution_count": 46,
   "id": "6fd22144",
   "metadata": {},
   "outputs": [
    {
     "data": {
      "image/png": "[encoded data removed]"
     },
     "metadata": {},
     "output_type": "display_data"
    }
   ],
   "source": [
    "%%R\n",
    "ggplot(bp, aes(snp1, sbp)) + geom_boxplot()"
   ]
  },
  {
   "cell_type": "markdown",
   "id": "dbd5547d",
   "metadata": {},
   "source": [
    "## Coding for snp3"
   ]
  },
  {
   "cell_type": "code",
   "execution_count": 35,
   "id": "a803b1af",
   "metadata": {},
   "outputs": [
    {
     "name": "stdout",
     "output_type": "stream",
     "text": [
      "  CC   TC   TT NA's \n",
      " 621  304   35   40 \n"
     ]
    }
   ],
   "source": [
    "%%R\n",
    "# what is the minor allele?\n",
    "summary(bp$snp3)"
   ]
  },
  {
   "cell_type": "code",
   "execution_count": 36,
   "id": "71dabed4",
   "metadata": {},
   "outputs": [
    {
     "name": "stdout",
     "output_type": "stream",
     "text": [
      "   Min. 1st Qu.  Median    Mean 3rd Qu.    Max.    NA's \n",
      "   1.00    1.00    1.00    1.39    2.00    3.00      40 \n"
     ]
    }
   ],
   "source": [
    "%%R\n",
    "bp = within(bp, {\n",
    "    snp3 <- factor(snp3, levels = c('CC', 'TC', 'TT'))\n",
    "    g3 = as.numeric(snp3)\n",
    "})\n",
    "summary(bp$g3)"
   ]
  },
  {
   "cell_type": "markdown",
   "id": "b1103443",
   "metadata": {},
   "source": [
    "## Additive model"
   ]
  },
  {
   "cell_type": "code",
   "execution_count": 17,
   "id": "168e0484",
   "metadata": {},
   "outputs": [
    {
     "name": "stdout",
     "output_type": "stream",
     "text": [
      "\n",
      "Call:\n",
      "lm(formula = sbp ~ g3, data = bp)\n",
      "\n",
      "Residuals:\n",
      "    Min      1Q  Median      3Q     Max \n",
      "-55.974 -12.418  -0.974  10.582  60.582 \n",
      "\n",
      "Coefficients:\n",
      "            Estimate Std. Error t value Pr(>|t|)    \n",
      "(Intercept)  137.862      1.589  86.741   <2e-16 ***\n",
      "g3             2.556      1.062   2.407   0.0163 *  \n",
      "---\n",
      "Signif. codes:  0 ‘***’ 0.001 ‘**’ 0.01 ‘*’ 0.05 ‘.’ 0.1 ‘ ’ 1\n",
      "\n",
      "Residual standard error: 18.33 on 958 degrees of freedom\n",
      "  (40 observations deleted due to missingness)\n",
      "Multiple R-squared:  0.006014,\tAdjusted R-squared:  0.004976 \n",
      "F-statistic: 5.796 on 1 and 958 DF,  p-value: 0.01625\n",
      "\n"
     ]
    }
   ],
   "source": [
    "%%R\n",
    "fit_add = lm(sbp ~ g3, bp)\n",
    "summary(fit_add)"
   ]
  },
  {
   "cell_type": "markdown",
   "id": "13461b9c",
   "metadata": {},
   "source": [
    "Does adjusting for covariates, e.g., sex, helps to improve the model?"
   ]
  },
  {
   "cell_type": "code",
   "execution_count": 32,
   "id": "3093b6f5",
   "metadata": {},
   "outputs": [
    {
     "name": "stdout",
     "output_type": "stream",
     "text": [
      "\n",
      "Call:\n",
      "lm(formula = sbp ~ sex + g3, data = bp)\n",
      "\n",
      "Residuals:\n",
      "   Min     1Q Median     3Q    Max \n",
      "-58.49 -12.90  -0.90  11.86  58.10 \n",
      "\n",
      "Coefficients:\n",
      "            Estimate Std. Error t value Pr(>|t|)    \n",
      "(Intercept)  140.312      1.689  83.089  < 2e-16 ***\n",
      "sexMALE       -4.762      1.175  -4.051  5.5e-05 ***\n",
      "g3             2.588      1.053   2.458   0.0142 *  \n",
      "---\n",
      "Signif. codes:  0 ‘***’ 0.001 ‘**’ 0.01 ‘*’ 0.05 ‘.’ 0.1 ‘ ’ 1\n",
      "\n",
      "Residual standard error: 18.19 on 957 degrees of freedom\n",
      "  (40 observations deleted due to missingness)\n",
      "Multiple R-squared:  0.02277,\tAdjusted R-squared:  0.02073 \n",
      "F-statistic: 11.15 on 2 and 957 DF,  p-value: 1.631e-05\n",
      "\n"
     ]
    }
   ],
   "source": [
    "%%R\n",
    "fit_add_cov1 = lm(sbp ~ sex + g3, bp)\n",
    "summary(fit_add_cov1)"
   ]
  },
  {
   "cell_type": "code",
   "execution_count": 34,
   "id": "9b1f2b22",
   "metadata": {},
   "outputs": [
    {
     "name": "stdout",
     "output_type": "stream",
     "text": [
      "\n",
      "Call:\n",
      "lm(formula = sbp ~ sex + bmi + g3, data = bp)\n",
      "\n",
      "Residuals:\n",
      "   Min     1Q Median     3Q    Max \n",
      "-58.83 -12.81  -0.82  11.58  57.80 \n",
      "\n",
      "Coefficients:\n",
      "             Estimate Std. Error t value Pr(>|t|)    \n",
      "(Intercept) 143.21813    3.28432  43.607  < 2e-16 ***\n",
      "sexMALE      -4.77580    1.17642  -4.060 5.32e-05 ***\n",
      "bmi          -0.09837    0.09481  -1.038   0.2997    \n",
      "g3            2.63566    1.05434   2.500   0.0126 *  \n",
      "---\n",
      "Signif. codes:  0 ‘***’ 0.001 ‘**’ 0.01 ‘*’ 0.05 ‘.’ 0.1 ‘ ’ 1\n",
      "\n",
      "Residual standard error: 18.19 on 955 degrees of freedom\n",
      "  (41 observations deleted due to missingness)\n",
      "Multiple R-squared:  0.02402,\tAdjusted R-squared:  0.02096 \n",
      "F-statistic: 7.836 on 3 and 955 DF,  p-value: 3.608e-05\n",
      "\n"
     ]
    }
   ],
   "source": [
    "%%R\n",
    "fit_add_cov2 = lm(sbp ~ sex + bmi + g3, bp)\n",
    "summary(fit_add_cov2)"
   ]
  },
  {
   "cell_type": "markdown",
   "id": "143d4a8c",
   "metadata": {},
   "source": [
    "# GWAS on `sim_rels`"
   ]
  },
  {
   "cell_type": "markdown",
   "id": "f01b4c5c",
   "metadata": {
    "heading_collapsed": true
   },
   "source": [
    "## Exploratory data analysis before GWAS"
   ]
  },
  {
   "cell_type": "markdown",
   "id": "da87a8c5",
   "metadata": {
    "hidden": true
   },
   "source": [
    "1. What is the sample size? \n",
    "2. What is the ditribution of phenotype? \n",
    "    - Is it binary or quantitative? \n",
    "    - If it is quantitative, does the distribution look normal?"
   ]
  },
  {
   "cell_type": "code",
   "execution_count": 18,
   "id": "d42f1faf",
   "metadata": {
    "hidden": true
   },
   "outputs": [
    {
     "name": "stdout",
     "output_type": "stream",
     "text": [
      "tibble [2,400 × 3] (S3: tbl_df/tbl/data.frame)\n",
      " $ FID  : int [1:2400] 2307 379 478 1545 990 1907 369 1694 2137 2314 ...\n",
      " $ IID  : int [1:2400] 2307 379 478 1545 990 1907 369 1694 2137 2314 ...\n",
      " $ Pheno: num [1:2400] 0.00999 -1.45253 0.11097 1.11363 -0.20993 ...\n",
      " - attr(*, \".internal.selfref\")=<externalptr> \n"
     ]
    }
   ],
   "source": [
    "%%R -i D1_PHENO\n",
    "phen = fread(D1_PHENO) %>% as_tibble\n",
    "str(phen)"
   ]
  },
  {
   "cell_type": "code",
   "execution_count": 19,
   "id": "254b0876",
   "metadata": {
    "hidden": true
   },
   "outputs": [
    {
     "name": "stdout",
     "output_type": "stream",
     "text": [
      "`stat_bin()` using `bins = 30`. Pick better value with `binwidth`.\n"
     ]
    },
    {
     "data": {
      "image/png": "[encoded data removed]"
     },
     "metadata": {},
     "output_type": "display_data"
    }
   ],
   "source": [
    "%%R\n",
    "ggplot(phen, aes(Pheno)) + geom_histogram()"
   ]
  },
  {
   "cell_type": "markdown",
   "id": "85dde959",
   "metadata": {},
   "source": [
    "## Run GWAS using Plink"
   ]
  },
  {
   "cell_type": "code",
   "execution_count": 20,
   "id": "c915c449",
   "metadata": {},
   "outputs": [
    {
     "name": "stdout",
     "output_type": "stream",
     "text": [
      "PLINK v2.00a3.7 64-bit (24 Oct 2022)           www.cog-genomics.org/plink/2.0/\n",
      "(C) 2005-2022 Shaun Purcell, Christopher Chang   GNU General Public License v3\n",
      "Logging to gwas_plink.log.\n",
      "Options in effect:\n",
      "  --bfile ../data//sim_rels_geno\n",
      "  --geno 0.1\n",
      "  --glm allow-no-covars\n",
      "  --hwe 1e-10\n",
      "  --maf 0.01\n",
      "  --out gwas_plink\n",
      "  --pheno ../data//sim_rels_pheno.txt\n",
      "  --pheno-name Pheno\n",
      "\n",
      "Start time: Tue Apr 25 10:45:06 2023\n",
      "16384 MiB RAM detected; reserving 8192 MiB for main workspace.\n",
      "Using up to 12 threads (change this with --threads).\n",
      "2400 samples (1179 females, 1221 males; 2400 founders) loaded from\n",
      "../data//sim_rels_geno.fam.\n",
      "106134 variants loaded from ../data//sim_rels_geno.bim.\n",
      "1 quantitative phenotype loaded (2400 values).\n",
      "Calculating allele frequencies... 0%\b\b61%\b\b\bdone.\n",
      "--geno: 0 variants removed due to missing genotype data.\n",
      "--hwe: 0 variants removed due to Hardy-Weinberg exact test (founders only).\n",
      "125 variants removed due to allele frequency threshold(s)\n",
      "(--maf/--max-maf/--mac/--max-mac).\n",
      "106009 variants remaining after main filters.\n",
      "--glm linear regression on phenotype 'Pheno': 0%\b\b61%\b\b\bdone.\n",
      "Results written to gwas_plink.Pheno.glm.linear .\n",
      "End time: Tue Apr 25 10:45:06 2023\n"
     ]
    }
   ],
   "source": [
    "%%bash -s \"$PLINK\" \"$D1_BFILE\" \"$D1_PHENO\"\n",
    "PLINK=$1\n",
    "D1_BFILE=$2\n",
    "D1_PHENO=$3\n",
    "\n",
    "cmd=\"$PLINK --bfile $D1_BFILE \n",
    "    --pheno $D1_PHENO --pheno-name Pheno \n",
    "    --maf 0.01 --geno 0.1 --hwe 1e-10 \n",
    "    --glm allow-no-covars --out gwas_plink\"\n",
    "eval $cmd\n"
   ]
  },
  {
   "cell_type": "markdown",
   "id": "1b7a800c",
   "metadata": {},
   "source": [
    "Check the output file."
   ]
  },
  {
   "cell_type": "code",
   "execution_count": 21,
   "id": "f035dee8",
   "metadata": {},
   "outputs": [
    {
     "name": "stdout",
     "output_type": "stream",
     "text": [
      "ID              BETA         SE         T_STAT     P\n",
      "1:12000011:A:C  0.0122331    0.0437981  0.279307   0.780034\n",
      "1:12000012:A:C  -0.0179816   0.0361811  -0.496988  0.619243\n",
      "1:12000019:T:C  -0.0848826   0.028367   -2.99231   0.00279703\n",
      "1:12000027:C:T  0.0125431    0.0434929  0.288394   0.77307\n",
      "1:12000036:G:A  0.0111345    0.0287975  0.386647   0.699052\n",
      "1:12000061:C:T  -0.00781173  0.0305395  -0.255791  0.798134\n",
      "1:12000073:C:T  -0.12345     0.0571993  -2.15825   0.0310072\n",
      "1:12000074:A:C  -0.0319143   0.0302438  -1.05523   0.291425\n",
      "1:12000117:G:A  0.00668323   0.0282828  0.2363     0.81322\n"
     ]
    }
   ],
   "source": [
    "%%bash \n",
    "head gwas_plink.Pheno.glm.linear | cut -f 3,9-12 | column -t"
   ]
  },
  {
   "cell_type": "markdown",
   "id": "06dceb9a",
   "metadata": {},
   "source": [
    "Read the association results into R for further analysis."
   ]
  },
  {
   "cell_type": "code",
   "execution_count": 22,
   "id": "7731e144",
   "metadata": {
    "scrolled": true
   },
   "outputs": [
    {
     "name": "stdout",
     "output_type": "stream",
     "text": [
      "tibble [106,009 × 13] (S3: tbl_df/tbl/data.frame)\n",
      " $ #CHROM : int [1:106009] 1 1 1 1 1 1 1 1 1 1 ...\n",
      " $ POS    : int [1:106009] 12000011 12000012 12000019 12000027 12000036 12000061 12000073 12000074 12000117 12000136 ...\n",
      " $ ID     : chr [1:106009] \"1:12000011:A:C\" \"1:12000012:A:C\" \"1:12000019:T:C\" \"1:12000027:C:T\" ...\n",
      " $ REF    : chr [1:106009] \"C\" \"C\" \"C\" \"T\" ...\n",
      " $ ALT    : chr [1:106009] \"A\" \"A\" \"T\" \"C\" ...\n",
      " $ A1     : chr [1:106009] \"A\" \"A\" \"T\" \"C\" ...\n",
      " $ TEST   : chr [1:106009] \"ADD\" \"ADD\" \"ADD\" \"ADD\" ...\n",
      " $ OBS_CT : int [1:106009] 2400 2400 2400 2400 2400 2400 2400 2400 2400 2400 ...\n",
      " $ BETA   : num [1:106009] 0.0122 -0.018 -0.0849 0.0125 0.0111 ...\n",
      " $ SE     : num [1:106009] 0.0438 0.0362 0.0284 0.0435 0.0288 ...\n",
      " $ T_STAT : num [1:106009] 0.279 -0.497 -2.992 0.288 0.387 ...\n",
      " $ P      : num [1:106009] 0.78 0.6192 0.0028 0.7731 0.6991 ...\n",
      " $ ERRCODE: chr [1:106009] \".\" \".\" \".\" \".\" ...\n",
      " - attr(*, \".internal.selfref\")=<externalptr> \n"
     ]
    }
   ],
   "source": [
    "%%R\n",
    "assoc_plink = fread('gwas_plink.Pheno.glm.linear') %>% as_tibble\n",
    "str(assoc_plink)"
   ]
  },
  {
   "cell_type": "code",
   "execution_count": 23,
   "id": "d5683b6c",
   "metadata": {},
   "outputs": [
    {
     "data": {
      "image/png": "[encoded data removed]"
     },
     "metadata": {},
     "output_type": "display_data"
    }
   ],
   "source": [
    "%%R\n",
    "# qq plot by qqman\n",
    "qq(assoc_plink$P)"
   ]
  },
  {
   "cell_type": "code",
   "execution_count": 24,
   "id": "dfae9e6f",
   "metadata": {},
   "outputs": [
    {
     "name": "stdout",
     "output_type": "stream",
     "text": [
      "[1] 1.148994\n"
     ]
    }
   ],
   "source": [
    "%%R\n",
    "median(qchisq(assoc_plink$P, df = 1, lower.tail = FALSE)) / qchisq(0.5, df = 1, lower.tail = FALSE)"
   ]
  },
  {
   "cell_type": "markdown",
   "id": "4a9f9dfe",
   "metadata": {},
   "source": [
    "## Run GWAS using Regenie"
   ]
  },
  {
   "cell_type": "markdown",
   "id": "4de9dc6b",
   "metadata": {},
   "source": [
    "Run Regenie Step 1 to fit the null model and obtain polygenic predictions using a leave-one-chromosome-out (LOCO) scheme."
   ]
  },
  {
   "cell_type": "code",
   "execution_count": 25,
   "id": "743de189",
   "metadata": {},
   "outputs": [
    {
     "name": "stdout",
     "output_type": "stream",
     "text": [
      "Start time: Tue Apr 25 10:45:08 2023\n",
      "\n",
      "              |=============================|\n",
      "              |      REGENIE v3.2.6.gz      |\n",
      "              |=============================|\n",
      "\n",
      "Copyright (c) 2020-2022 Joelle Mbatchou, Andrey Ziyatdinov and Jonathan Marchini.\n",
      "Distributed under the MIT License.\n",
      "Compiled with Boost Iostream library.\n",
      "Using Intel MKL with Eigen.\n",
      "\n",
      "Log of output saved in file : gwas_regenie.log\n",
      "\n",
      "Options in effect:\n",
      "  --bed ../data//sim_rels_geno \\\n",
      "  --phenoFile ../data//sim_rels_pheno.txt \\\n",
      "  --phenoCol Pheno \\\n",
      "  --qt \\\n",
      "  --step 1 \\\n",
      "  --loocv \\\n",
      "  --bsize 1000 \\\n",
      "  --out gwas_regenie\n",
      "\n",
      "Fitting null model\n",
      " * bim              : [../data//sim_rels_geno.bim] n_snps = 106134\n",
      " * fam              : [../data//sim_rels_geno.fam] n_samples = 2400\n",
      " * bed              : [../data//sim_rels_geno.bed]\n",
      " * phenotypes       : [../data//sim_rels_pheno.txt] n_pheno = 1\n",
      "   -dropping observations with missing values at any of the phenotypes\n",
      "   -number of phenotyped individuals with no missing data = 2400\n",
      " * number of individuals used in analysis = 2400\n",
      " * number of observations for each trait:\n",
      "   - 'Pheno': 2400 observations\n",
      "   -residualizing and scaling phenotypes...done (0ms) \n",
      " * # threads        : [11]\n",
      " * block size       : [1000]\n",
      " * # blocks         : [110] for 106134 variants\n",
      " * # CV folds       : [2400]\n",
      " * ridge data_l0    : [5 : 0.01 0.25 0.5 0.75 0.99 ]\n",
      " * ridge data_l1    : [5 : 0.01 0.25 0.5 0.75 0.99 ]\n",
      " * approximate memory usage : 999MB\n",
      " * setting memory...done\n",
      "\n",
      "Chromosome 1\n",
      " block [1] : 1000 snps  (14ms) \n",
      "   -residualizing and scaling genotypes...done (38ms) \n",
      "   -calc working matrices...done (232ms) \n",
      "   -calc level 0 ridge...done (66ms) \n",
      " block [2] : 1000 snps  (7ms) \n",
      "   -residualizing and scaling genotypes...done (17ms) \n",
      "   -calc working matrices...done (196ms) \n",
      "   -calc level 0 ridge...done (41ms) \n",
      " block [3] : 1000 snps  (7ms) \n",
      "   -residualizing and scaling genotypes...done (16ms) \n",
      "   -calc working matrices...done (196ms) \n",
      "   -calc level 0 ridge...done (39ms) \n",
      " block [4] : 1000 snps  (8ms) \n",
      "   -residualizing and scaling genotypes...done (16ms) \n",
      "   -calc working matrices...done (190ms) \n",
      "   -calc level 0 ridge...done (40ms) \n",
      " block [5] : 918 snps  (7ms) \n",
      "   -residualizing and scaling genotypes...done (18ms) \n",
      "   -calc working matrices...done (166ms) \n",
      "   -calc level 0 ridge...done (40ms) \n",
      "Chromosome 2\n",
      " block [6] : 1000 snps  (7ms) \n",
      "   -residualizing and scaling genotypes...done (16ms) \n",
      "   -calc working matrices...done (191ms) \n",
      "   -calc level 0 ridge...done (37ms) \n",
      " block [7] : 1000 snps  (7ms) \n",
      "   -residualizing and scaling genotypes...done (16ms) \n",
      "   -calc working matrices...done (186ms) \n",
      "   -calc level 0 ridge...done (38ms) \n",
      " block [8] : 1000 snps  (7ms) \n",
      "   -residualizing and scaling genotypes...done (16ms) \n",
      "   -calc working matrices...done (189ms) \n",
      "   -calc level 0 ridge...done (39ms) \n",
      " block [9] : 1000 snps  (7ms) \n",
      "   -residualizing and scaling genotypes...done (15ms) \n",
      "   -calc working matrices...done (189ms) \n",
      "   -calc level 0 ridge...done (39ms) \n",
      " block [10] : 857 snps  (7ms) \n",
      "   -residualizing and scaling genotypes...done (13ms) \n",
      "   -calc working matrices...done (134ms) \n",
      "   -calc level 0 ridge...done (34ms) \n",
      "Chromosome 3\n",
      " block [11] : 1000 snps  (8ms) \n",
      "   -residualizing and scaling genotypes...done (15ms) \n",
      "   -calc working matrices...done (185ms) \n",
      "   -calc level 0 ridge...done (38ms) \n",
      " block [12] : 1000 snps  (8ms) \n",
      "   -residualizing and scaling genotypes...done (17ms) \n",
      "   -calc working matrices...done (189ms) \n",
      "   -calc level 0 ridge...done (40ms) \n",
      " block [13] : 1000 snps  (7ms) \n",
      "   -residualizing and scaling genotypes...done (16ms) \n",
      "   -calc working matrices...done (188ms) \n",
      "   -calc level 0 ridge...done (42ms) \n",
      " block [14] : 1000 snps  (9ms) \n",
      "   -residualizing and scaling genotypes...done (16ms) \n",
      "   -calc working matrices...done (189ms) \n",
      "   -calc level 0 ridge...done (37ms) \n",
      " block [15] : 813 snps  (6ms) \n",
      "   -residualizing and scaling genotypes...done (12ms) \n",
      "   -calc working matrices...done (118ms) \n",
      "   -calc level 0 ridge...done (32ms) \n",
      "Chromosome 4\n",
      " block [16] : 1000 snps  (8ms) \n",
      "   -residualizing and scaling genotypes...done (16ms) \n",
      "   -calc working matrices...done (188ms) \n",
      "   -calc level 0 ridge...done (39ms) \n",
      " block [17] : 1000 snps  (7ms) \n",
      "   -residualizing and scaling genotypes...done (15ms) \n",
      "   -calc working matrices...done (190ms) \n",
      "   -calc level 0 ridge...done (47ms) \n",
      " block [18] : 1000 snps  (9ms) \n",
      "   -residualizing and scaling genotypes...done (17ms) \n",
      "   -calc working matrices...done (192ms) \n",
      "   -calc level 0 ridge...done (40ms) \n",
      " block [19] : 1000 snps  (7ms) \n",
      "   -residualizing and scaling genotypes...done (15ms) \n",
      "   -calc working matrices...done (182ms) \n",
      "   -calc level 0 ridge...done (38ms) \n",
      " block [20] : 772 snps  (5ms) \n",
      "   -residualizing and scaling genotypes...done (11ms) \n",
      "   -calc working matrices...done (113ms) \n",
      "   -calc level 0 ridge...done (30ms) \n",
      "Chromosome 5\n",
      " block [21] : 1000 snps  (8ms) \n",
      "   -residualizing and scaling genotypes...done (17ms) \n",
      "   -calc working matrices...done (192ms) \n",
      "   -calc level 0 ridge...done (42ms) \n",
      " block [22] : 1000 snps  (7ms) \n",
      "   -residualizing and scaling genotypes...done (15ms) \n",
      "   -calc working matrices...done (190ms) \n",
      "   -calc level 0 ridge...done (41ms) \n",
      " block [23] : 1000 snps  (8ms) \n",
      "   -residualizing and scaling genotypes...done (17ms) \n",
      "   -calc working matrices...done (190ms) \n",
      "   -calc level 0 ridge...done (38ms) \n",
      " block [24] : 1000 snps  (7ms) \n",
      "   -residualizing and scaling genotypes...done (17ms) \n",
      "   -calc working matrices...done (190ms) \n",
      "   -calc level 0 ridge...done (42ms) \n",
      " block [25] : 810 snps  (6ms) \n",
      "   -residualizing and scaling genotypes...done (14ms) \n",
      "   -calc working matrices...done (123ms) \n",
      "   -calc level 0 ridge...done (31ms) \n",
      "Chromosome 6\n",
      " block [26] : 1000 snps  (8ms) \n",
      "   -residualizing and scaling genotypes...done (15ms) \n",
      "   -calc working matrices...done (192ms) \n",
      "   -calc level 0 ridge...done (54ms) \n",
      " block [27] : 1000 snps  (18ms) \n",
      "   -residualizing and scaling genotypes...done (24ms) \n",
      "   -calc working matrices...done (207ms) \n",
      "   -calc level 0 ridge...done (41ms) \n",
      " block [28] : 1000 snps  (9ms) \n",
      "   -residualizing and scaling genotypes...done (23ms) \n",
      "   -calc working matrices...done (196ms) \n",
      "   -calc level 0 ridge...done (40ms) \n",
      " block [29] : 1000 snps  (8ms) \n",
      "   -residualizing and scaling genotypes...done (16ms) \n",
      "   -calc working matrices...done (189ms) \n",
      "   -calc level 0 ridge...done (42ms) \n",
      " block [30] : 914 snps  (7ms) \n",
      "   -residualizing and scaling genotypes...done (16ms) \n",
      "   -calc working matrices...done (160ms) \n",
      "   -calc level 0 ridge...done (38ms) \n",
      "Chromosome 7\n",
      " block [31] : 1000 snps  (7ms) \n",
      "   -residualizing and scaling genotypes...done (16ms) \n",
      "   -calc working matrices...done (192ms) \n",
      "   -calc level 0 ridge...done (46ms) \n",
      " block [32] : 1000 snps  (8ms) \n",
      "   -residualizing and scaling genotypes...done (17ms) \n",
      "   -calc working matrices...done (191ms) \n",
      "   -calc level 0 ridge...done (39ms) \n",
      " block [33] : 1000 snps  (8ms) \n",
      "   -residualizing and scaling genotypes...done (16ms) \n",
      "   -calc working matrices...done (192ms) \n",
      "   -calc level 0 ridge...done (50ms) \n",
      " block [34] : 1000 snps  (10ms) \n",
      "   -residualizing and scaling genotypes...done (18ms) \n",
      "   -calc working matrices...done (196ms) \n",
      "   -calc level 0 ridge...done (44ms) \n",
      " block [35] : 840 snps  (8ms) \n",
      "   -residualizing and scaling genotypes...done (15ms) \n",
      "   -calc working matrices...done (132ms) \n",
      "   -calc level 0 ridge...done (34ms) \n",
      "Chromosome 8\n",
      " block [36] : 1000 snps  (8ms) \n",
      "   -residualizing and scaling genotypes...done (16ms) \n",
      "   -calc working matrices...done (193ms) \n",
      "   -calc level 0 ridge...done (39ms) \n",
      " block [37] : 1000 snps  (7ms) \n",
      "   -residualizing and scaling genotypes...done (16ms) \n",
      "   -calc working matrices...done (187ms) \n",
      "   -calc level 0 ridge...done (40ms) \n",
      " block [38] : 1000 snps  (8ms) \n",
      "   -residualizing and scaling genotypes...done (16ms) \n",
      "   -calc working matrices...done (190ms) \n",
      "   -calc level 0 ridge...done (39ms) \n",
      " block [39] : 1000 snps  (8ms) \n",
      "   -residualizing and scaling genotypes...done (15ms) \n",
      "   -calc working matrices...done (191ms) \n",
      "   -calc level 0 ridge...done (50ms) \n",
      " block [40] : 696 snps  (7ms) \n",
      "   -residualizing and scaling genotypes...done (12ms) \n",
      "   -calc working matrices...done (88ms) \n",
      "   -calc level 0 ridge...done (26ms) \n",
      "Chromosome 9\n",
      " block [41] : 1000 snps  (8ms) \n",
      "   -residualizing and scaling genotypes...done (17ms) \n",
      "   -calc working matrices...done (199ms) \n",
      "   -calc level 0 ridge...done (44ms) \n",
      " block [42] : 1000 snps  (9ms) \n",
      "   -residualizing and scaling genotypes...done (18ms) \n",
      "   -calc working matrices...done (201ms) \n",
      "   -calc level 0 ridge...done (43ms) \n",
      " block [43] : 1000 snps  (8ms) \n",
      "   -residualizing and scaling genotypes...done (18ms) \n",
      "   -calc working matrices...done (203ms) \n",
      "   -calc level 0 ridge...done (47ms) \n",
      " block [44] : 1000 snps  (10ms) \n",
      "   -residualizing and scaling genotypes...done (18ms) \n",
      "   -calc working matrices...done (208ms) \n",
      "   -calc level 0 ridge...done (46ms) \n",
      " block [45] : 790 snps  (7ms) \n",
      "   -residualizing and scaling genotypes...done (14ms) \n",
      "   -calc working matrices...done (125ms) \n",
      "   -calc level 0 ridge...done (31ms) \n",
      "Chromosome 10\n",
      " block [46] : 1000 snps  (11ms) \n",
      "   -residualizing and scaling genotypes...done (19ms) \n",
      "   -calc working matrices...done (201ms) \n",
      "   -calc level 0 ridge...done (42ms) \n",
      " block [47] : 1000 snps  (9ms) \n",
      "   -residualizing and scaling genotypes...done (19ms) \n",
      "   -calc working matrices...done (220ms) \n",
      "   -calc level 0 ridge...done (49ms) \n",
      " block [48] : 1000 snps  (9ms) \n",
      "   -residualizing and scaling genotypes...done (18ms) \n",
      "   -calc working matrices...done (232ms) \n",
      "   -calc level 0 ridge...done (53ms) \n",
      " block [49] : 1000 snps  (9ms) \n",
      "   -residualizing and scaling genotypes...done (19ms) \n",
      "   -calc working matrices...done (211ms) \n",
      "   -calc level 0 ridge...done (43ms) \n",
      " block [50] : 906 snps  (8ms) \n",
      "   -residualizing and scaling genotypes...done (15ms) \n",
      "   -calc working matrices...done (159ms) \n",
      "   -calc level 0 ridge...done (35ms) \n",
      "Chromosome 11\n",
      " block [51] : 1000 snps  (7ms) \n",
      "   -residualizing and scaling genotypes...done (17ms) \n",
      "   -calc working matrices...done (205ms) \n",
      "   -calc level 0 ridge...done (39ms) \n",
      " block [52] : 1000 snps  (8ms) \n",
      "   -residualizing and scaling genotypes...done (16ms) \n",
      "   -calc working matrices...done (178ms) \n",
      "   -calc level 0 ridge...done (35ms) \n",
      " block [53] : 1000 snps  (8ms) \n",
      "   -residualizing and scaling genotypes...done (16ms) \n",
      "   -calc working matrices...done (190ms) \n",
      "   -calc level 0 ridge...done (33ms) \n",
      " block [54] : 1000 snps  (7ms) \n",
      "   -residualizing and scaling genotypes...done (16ms) \n",
      "   -calc working matrices...done (177ms) \n",
      "   -calc level 0 ridge...done (33ms) \n",
      " block [55] : 782 snps  (5ms) \n",
      "   -residualizing and scaling genotypes...done (11ms) \n",
      "   -calc working matrices...done (103ms) \n",
      "   -calc level 0 ridge...done (30ms) \n",
      "Chromosome 12\n",
      " block [56] : 1000 snps  (7ms) \n",
      "   -residualizing and scaling genotypes...done (14ms) \n",
      "   -calc working matrices...done (177ms) \n",
      "   -calc level 0 ridge...done (56ms) \n",
      " block [57] : 1000 snps  (9ms) \n",
      "   -residualizing and scaling genotypes...done (19ms) \n",
      "   -calc working matrices...done (189ms) \n",
      "   -calc level 0 ridge...done (34ms) \n",
      " block [58] : 1000 snps  (7ms) \n",
      "   -residualizing and scaling genotypes...done (15ms) \n",
      "   -calc working matrices...done (178ms) \n",
      "   -calc level 0 ridge...done (33ms) \n",
      " block [59] : 1000 snps  (7ms) \n",
      "   -residualizing and scaling genotypes...done (14ms) \n",
      "   -calc working matrices...done (184ms) \n",
      "   -calc level 0 ridge...done (39ms) \n",
      " block [60] : 756 snps  (5ms) \n",
      "   -residualizing and scaling genotypes...done (11ms) \n",
      "   -calc working matrices...done (162ms) \n",
      "   -calc level 0 ridge...done (29ms) \n",
      "Chromosome 13\n",
      " block [61] : 1000 snps  (7ms) \n",
      "   -residualizing and scaling genotypes...done (14ms) \n",
      "   -calc working matrices...done (183ms) \n",
      "   -calc level 0 ridge...done (39ms) \n",
      " block [62] : 1000 snps  (9ms) \n",
      "   -residualizing and scaling genotypes...done (17ms) \n",
      "   -calc working matrices...done (183ms) \n",
      "   -calc level 0 ridge...done (35ms) \n",
      " block [63] : 1000 snps  (7ms) \n",
      "   -residualizing and scaling genotypes...done (16ms) \n",
      "   -calc working matrices...done (187ms) \n",
      "   -calc level 0 ridge...done (49ms) \n",
      " block [64] : 1000 snps  (8ms) \n",
      "   -residualizing and scaling genotypes...done (17ms) \n",
      "   -calc working matrices...done (194ms) \n",
      "   -calc level 0 ridge...done (36ms) \n",
      " block [65] : 803 snps  (6ms) \n",
      "   -residualizing and scaling genotypes...done (11ms) \n",
      "   -calc working matrices...done (116ms) \n",
      "   -calc level 0 ridge...done (33ms) \n",
      "Chromosome 14\n",
      " block [66] : 1000 snps  (8ms) \n",
      "   -residualizing and scaling genotypes...done (19ms) \n",
      "   -calc working matrices...done (195ms) \n",
      "   -calc level 0 ridge...done (41ms) \n",
      " block [67] : 1000 snps  (9ms) \n",
      "   -residualizing and scaling genotypes...done (20ms) \n",
      "   -calc working matrices...done (242ms) \n",
      "   -calc level 0 ridge...done (42ms) \n",
      " block [68] : 1000 snps  (8ms) \n",
      "   -residualizing and scaling genotypes...done (16ms) \n",
      "   -calc working matrices...done (190ms) \n",
      "   -calc level 0 ridge...done (45ms) \n",
      " block [69] : 1000 snps  (9ms) \n",
      "   -residualizing and scaling genotypes...done (18ms) \n",
      "   -calc working matrices...done (289ms) \n",
      "   -calc level 0 ridge...done (73ms) \n",
      " block [70] : 671 snps  (8ms) \n",
      "   -residualizing and scaling genotypes...done (22ms) \n",
      "   -calc working matrices...done (122ms) \n",
      "   -calc level 0 ridge...done (36ms) \n",
      "Chromosome 15\n",
      " block [71] : 1000 snps  (12ms) \n",
      "   -residualizing and scaling genotypes...done (25ms) \n",
      "   -calc working matrices...done (277ms) \n",
      "   -calc level 0 ridge...done (60ms) \n",
      " block [72] : 1000 snps  (13ms) \n",
      "   -residualizing and scaling genotypes...done (20ms) \n",
      "   -calc working matrices...done (182ms) \n",
      "   -calc level 0 ridge...done (34ms) \n",
      " block [73] : 1000 snps  (7ms) \n",
      "   -residualizing and scaling genotypes...done (14ms) \n",
      "   -calc working matrices...done (179ms) \n",
      "   -calc level 0 ridge...done (32ms) \n",
      " block [74] : 1000 snps  (7ms) \n",
      "   -residualizing and scaling genotypes...done (14ms) \n",
      "   -calc working matrices...done (174ms) \n",
      "   -calc level 0 ridge...done (51ms) \n",
      " block [75] : 814 snps  (8ms) \n",
      "   -residualizing and scaling genotypes...done (15ms) \n",
      "   -calc working matrices...done (122ms) \n",
      "   -calc level 0 ridge...done (31ms) \n",
      "Chromosome 16\n",
      " block [76] : 1000 snps  (8ms) \n",
      "   -residualizing and scaling genotypes...done (16ms) \n",
      "   -calc working matrices...done (178ms) \n",
      "   -calc level 0 ridge...done (34ms) \n",
      " block [77] : 1000 snps  (7ms) \n",
      "   -residualizing and scaling genotypes...done (17ms) \n",
      "   -calc working matrices...done (180ms) \n",
      "   -calc level 0 ridge...done (37ms) \n",
      " block [78] : 1000 snps  (7ms) \n",
      "   -residualizing and scaling genotypes...done (15ms) \n",
      "   -calc working matrices...done (175ms) \n",
      "   -calc level 0 ridge...done (35ms) \n",
      " block [79] : 1000 snps  (7ms) \n",
      "   -residualizing and scaling genotypes...done (14ms) \n",
      "   -calc working matrices...done (177ms) \n",
      "   -calc level 0 ridge...done (36ms) \n",
      " block [80] : 869 snps  (6ms) \n",
      "   -residualizing and scaling genotypes...done (13ms) \n",
      "   -calc working matrices...done (133ms) \n",
      "   -calc level 0 ridge...done (34ms) \n",
      "Chromosome 17\n",
      " block [81] : 1000 snps  (7ms) \n",
      "   -residualizing and scaling genotypes...done (14ms) \n",
      "   -calc working matrices...done (202ms) \n",
      "   -calc level 0 ridge...done (39ms) \n",
      " block [82] : 1000 snps  (7ms) \n",
      "   -residualizing and scaling genotypes...done (15ms) \n",
      "   -calc working matrices...done (186ms) \n",
      "   -calc level 0 ridge...done (33ms) \n",
      " block [83] : 1000 snps  (7ms) \n",
      "   -residualizing and scaling genotypes...done (14ms) \n",
      "   -calc working matrices...done (180ms) \n",
      "   -calc level 0 ridge...done (33ms) \n",
      " block [84] : 1000 snps  (7ms) \n",
      "   -residualizing and scaling genotypes...done (14ms) \n",
      "   -calc working matrices...done (179ms) \n",
      "   -calc level 0 ridge...done (38ms) \n",
      " block [85] : 632 snps  (5ms) \n",
      "   -residualizing and scaling genotypes...done (11ms) \n",
      "   -calc working matrices...done (65ms) \n",
      "   -calc level 0 ridge...done (21ms) \n",
      "Chromosome 18\n",
      " block [86] : 1000 snps  (7ms) \n",
      "   -residualizing and scaling genotypes...done (15ms) \n",
      "   -calc working matrices...done (192ms) \n",
      "   -calc level 0 ridge...done (47ms) \n",
      " block [87] : 1000 snps  (10ms) \n",
      "   -residualizing and scaling genotypes...done (17ms) \n",
      "   -calc working matrices...done (183ms) \n",
      "   -calc level 0 ridge...done (33ms) \n",
      " block [88] : 1000 snps  (7ms) \n",
      "   -residualizing and scaling genotypes...done (15ms) \n",
      "   -calc working matrices...done (187ms) \n",
      "   -calc level 0 ridge...done (34ms) \n",
      " block [89] : 1000 snps  (7ms) \n",
      "   -residualizing and scaling genotypes...done (16ms) \n",
      "   -calc working matrices...done (178ms) \n",
      "   -calc level 0 ridge...done (37ms) \n",
      " block [90] : 834 snps  (6ms) \n",
      "   -residualizing and scaling genotypes...done (14ms) \n",
      "   -calc working matrices...done (124ms) \n",
      "   -calc level 0 ridge...done (31ms) \n",
      "Chromosome 19\n",
      " block [91] : 1000 snps  (7ms) \n",
      "   -residualizing and scaling genotypes...done (16ms) \n",
      "   -calc working matrices...done (178ms) \n",
      "   -calc level 0 ridge...done (33ms) \n",
      " block [92] : 1000 snps  (7ms) \n",
      "   -residualizing and scaling genotypes...done (14ms) \n",
      "   -calc working matrices...done (178ms) \n",
      "   -calc level 0 ridge...done (41ms) \n",
      " block [93] : 1000 snps  (9ms) \n",
      "   -residualizing and scaling genotypes...done (17ms) \n",
      "   -calc working matrices...done (200ms) \n",
      "   -calc level 0 ridge...done (34ms) \n",
      " block [94] : 1000 snps  (7ms) \n",
      "   -residualizing and scaling genotypes...done (16ms) \n",
      "   -calc working matrices...done (183ms) \n",
      "   -calc level 0 ridge...done (34ms) \n",
      " block [95] : 908 snps  (6ms) \n",
      "   -residualizing and scaling genotypes...done (15ms) \n",
      "   -calc working matrices...done (151ms) \n",
      "   -calc level 0 ridge...done (35ms) \n",
      "Chromosome 20\n",
      " block [96] : 1000 snps  (7ms) \n",
      "   -residualizing and scaling genotypes...done (14ms) \n",
      "   -calc working matrices...done (180ms) \n",
      "   -calc level 0 ridge...done (34ms) \n",
      " block [97] : 1000 snps  (7ms) \n",
      "   -residualizing and scaling genotypes...done (14ms) \n",
      "   -calc working matrices...done (181ms) \n",
      "   -calc level 0 ridge...done (35ms) \n",
      " block [98] : 1000 snps  (7ms) \n",
      "   -residualizing and scaling genotypes...done (15ms) \n",
      "   -calc working matrices...done (182ms) \n",
      "   -calc level 0 ridge...done (34ms) \n",
      " block [99] : 1000 snps  (7ms) \n",
      "   -residualizing and scaling genotypes...done (15ms) \n",
      "   -calc working matrices...done (176ms) \n",
      "   -calc level 0 ridge...done (35ms) \n",
      " block [100] : 942 snps  (7ms) \n",
      "   -residualizing and scaling genotypes...done (14ms) \n",
      "   -calc working matrices...done (163ms) \n",
      "   -calc level 0 ridge...done (40ms) \n",
      "Chromosome 21\n",
      " block [101] : 1000 snps  (8ms) \n",
      "   -residualizing and scaling genotypes...done (16ms) \n",
      "   -calc working matrices...done (187ms) \n",
      "   -calc level 0 ridge...done (33ms) \n",
      " block [102] : 1000 snps  (7ms) \n",
      "   -residualizing and scaling genotypes...done (15ms) \n",
      "   -calc working matrices...done (182ms) \n",
      "   -calc level 0 ridge...done (39ms) \n",
      " block [103] : 1000 snps  (10ms) \n",
      "   -residualizing and scaling genotypes...done (16ms) \n",
      "   -calc working matrices...done (181ms) \n",
      "   -calc level 0 ridge...done (34ms) \n",
      " block [104] : 1000 snps  (8ms) \n",
      "   -residualizing and scaling genotypes...done (16ms) \n",
      "   -calc working matrices...done (178ms) \n",
      "   -calc level 0 ridge...done (35ms) \n",
      " block [105] : 947 snps  (7ms) \n",
      "   -residualizing and scaling genotypes...done (15ms) \n",
      "   -calc working matrices...done (197ms) \n",
      "   -calc level 0 ridge...done (49ms) \n",
      "Chromosome 22\n",
      " block [106] : 1000 snps  (10ms) \n",
      "   -residualizing and scaling genotypes...done (19ms) \n",
      "   -calc working matrices...done (216ms) \n",
      "   -calc level 0 ridge...done (65ms) \n",
      " block [107] : 1000 snps  (11ms) \n",
      "   -residualizing and scaling genotypes...done (23ms) \n",
      "   -calc working matrices...done (265ms) \n",
      "   -calc level 0 ridge...done (49ms) \n",
      " block [108] : 1000 snps  (11ms) \n",
      "   -residualizing and scaling genotypes...done (22ms) \n",
      "   -calc working matrices...done (207ms) \n",
      "   -calc level 0 ridge...done (41ms) \n",
      " block [109] : 1000 snps  (9ms) \n",
      "   -residualizing and scaling genotypes...done (19ms) \n",
      "   -calc working matrices...done (204ms) \n",
      "   -calc level 0 ridge...done (36ms) \n",
      " block [110] : 860 snps  (6ms) \n",
      "   -residualizing and scaling genotypes...done (13ms) \n",
      "   -calc working matrices...done (132ms) \n",
      "   -calc level 0 ridge...done (36ms) \n",
      "\n",
      " Level 1 ridge...\n",
      "   -on phenotype 1 (Pheno)...done (42ms) \n",
      "\n",
      "Output\n",
      "------\n",
      "phenotype 1 (Pheno) : \n",
      "  0.01  : Rsq = 0.0852655, MSE = 0.926281\n",
      "  0.25  : Rsq = 0.0953797, MSE = 0.907146\n",
      "  0.5   : Rsq = 0.10122, MSE = 0.904199<- min value\n",
      "  0.75  : Rsq = 0.104195, MSE = 0.906644\n",
      "  0.99  : Rsq = 0.101448, MSE = 0.926305\n",
      "  * making predictions...writing LOCO predictions...done (73ms) \n",
      "\n",
      "List of blup files written to: [gwas_regenie_pred.list]\n",
      "\n",
      "Elapsed time : 27.9795s\n",
      "End time: Tue Apr 25 10:45:36 2023\n",
      "\n"
     ]
    }
   ],
   "source": [
    "%%bash -s \"$REGENIE\" \"$D1_BFILE\" \"$D1_PHENO\"\n",
    "REGENIE=$1\n",
    "D1_BFILE=$2\n",
    "D1_PHENO=$3\n",
    "\n",
    "# --maf 0.01 --geno 0.1 --hwe 1e-10\n",
    "# --extract <plink_QC_pass_snplist>\n",
    "\n",
    "cmd=\"$REGENIE --bed $D1_BFILE \n",
    "    --phenoFile $D1_PHENO --phenoCol Pheno \n",
    "    --qt\n",
    "    --step 1 --loocv --bsize 1000  \n",
    "    --out gwas_regenie\"\n",
    "     \n",
    "eval $cmd"
   ]
  },
  {
   "cell_type": "markdown",
   "id": "0d06c35c",
   "metadata": {},
   "source": [
    "Run REGENIE Step 2 to perform association testing at the same variants analyzed in PLINK."
   ]
  },
  {
   "cell_type": "code",
   "execution_count": 26,
   "id": "9e8bb784",
   "metadata": {},
   "outputs": [
    {
     "name": "stdout",
     "output_type": "stream",
     "text": [
      "Start time: Tue Apr 25 10:45:36 2023\n",
      "\n",
      "              |=============================|\n",
      "              |      REGENIE v3.2.6.gz      |\n",
      "              |=============================|\n",
      "\n",
      "Copyright (c) 2020-2022 Joelle Mbatchou, Andrey Ziyatdinov and Jonathan Marchini.\n",
      "Distributed under the MIT License.\n",
      "Compiled with Boost Iostream library.\n",
      "Using Intel MKL with Eigen.\n",
      "\n",
      "Log of output saved in file : gwas_regenie.log\n",
      "\n",
      "Options in effect:\n",
      "  --bed ../data//sim_rels_geno \\\n",
      "  --phenoFile ../data//sim_rels_pheno.txt \\\n",
      "  --phenoCol Pheno \\\n",
      "  --qt \\\n",
      "  --pred gwas_regenie_pred.list \\\n",
      "  --step 2 \\\n",
      "  --bsize 400 \\\n",
      "  --out gwas_regenie\n",
      "\n",
      "Association testing mode with fast multithreading using OpenMP\n",
      " * bim              : [../data//sim_rels_geno.bim] n_snps = 106134\n",
      " * fam              : [../data//sim_rels_geno.fam] n_samples = 2400\n",
      " * bed              : [../data//sim_rels_geno.bed]\n",
      " * phenotypes       : [../data//sim_rels_pheno.txt] n_pheno = 1\n",
      "   -dropping observations with missing values at any of the phenotypes\n",
      "   -number of phenotyped individuals with no missing data = 2400\n",
      " * number of individuals used in analysis = 2400\n",
      " * number of observations for each trait:\n",
      "   - 'Pheno': 2400 observations\n",
      " * LOCO predictions : [gwas_regenie_pred.list]\n",
      "   -file [/Users/andrey.ziyatdinov/Documents/Workshop-UNAM-2023/code/gwas_regenie_1.loco] for phenotype 'Pheno'\n",
      "   -residualizing and scaling phenotypes...done (0ms) \n",
      " * # threads        : [11]\n",
      " * block size       : [400]\n",
      " * # blocks         : [279]\n",
      " * approximate memory usage : 32MB\n",
      " * using minimum MAC of 5 (variants with lower MAC are ignored)\n",
      "\n",
      "Chromosome 1 [13 blocks in total]\n",
      "   -reading loco predictions for the chromosome...done (1ms) \n",
      " block [1/279] : done (19ms) \n",
      " block [2/279] : done (12ms) \n",
      " block [3/279] : done (11ms) \n",
      " block [4/279] : done (12ms) \n",
      " block [5/279] : done (11ms) \n",
      " block [6/279] : done (11ms) \n",
      " block [7/279] : done (10ms) \n",
      " block [8/279] : done (9ms) \n",
      " block [9/279] : done (9ms) \n",
      " block [10/279] : done (9ms) \n",
      " block [11/279] : done (10ms) \n",
      " block [12/279] : done (9ms) \n",
      " block [13/279] : done (4ms) \n",
      "Chromosome 2 [13 blocks in total]\n",
      "   -reading loco predictions for the chromosome...done (1ms) \n",
      " block [14/279] : done (9ms) \n",
      " block [15/279] : done (10ms) \n",
      " block [16/279] : done (10ms) \n",
      " block [17/279] : done (10ms) \n",
      " block [18/279] : done (10ms) \n",
      " block [19/279] : done (10ms) \n",
      " block [20/279] : done (10ms) \n",
      " block [21/279] : done (12ms) \n",
      " block [22/279] : done (13ms) \n",
      " block [23/279] : done (13ms) \n",
      " block [24/279] : done (12ms) \n",
      " block [25/279] : done (12ms) \n",
      " block [26/279] : done (2ms) \n",
      "Chromosome 3 [13 blocks in total]\n",
      "   -reading loco predictions for the chromosome...done (2ms) \n",
      " block [27/279] : done (11ms) \n",
      " block [28/279] : done (13ms) \n",
      " block [29/279] : done (13ms) \n",
      " block [30/279] : done (11ms) \n",
      " block [31/279] : done (11ms) \n",
      " block [32/279] : done (12ms) \n",
      " block [33/279] : done (11ms) \n",
      " block [34/279] : done (11ms) \n",
      " block [35/279] : done (11ms) \n",
      " block [36/279] : done (11ms) \n",
      " block [37/279] : done (11ms) \n",
      " block [38/279] : done (11ms) \n",
      " block [39/279] : done (0ms) \n",
      "Chromosome 4 [12 blocks in total]\n",
      "   -reading loco predictions for the chromosome...done (2ms) \n",
      " block [40/279] : done (12ms) \n",
      " block [41/279] : done (11ms) \n",
      " block [42/279] : done (12ms) \n",
      " block [43/279] : done (11ms) \n",
      " block [44/279] : done (11ms) \n",
      " block [45/279] : done (12ms) \n",
      " block [46/279] : done (12ms) \n",
      " block [47/279] : done (11ms) \n",
      " block [48/279] : done (11ms) \n",
      " block [49/279] : done (10ms) \n",
      " block [50/279] : done (10ms) \n",
      " block [51/279] : done (9ms) \n",
      "Chromosome 5 [13 blocks in total]\n",
      "   -reading loco predictions for the chromosome...done (1ms) \n",
      " block [52/279] : done (10ms) \n",
      " block [53/279] : done (10ms) \n",
      " block [54/279] : done (10ms) \n",
      " block [55/279] : done (10ms) \n",
      " block [56/279] : done (9ms) \n",
      " block [57/279] : done (10ms) \n",
      " block [58/279] : done (10ms) \n",
      " block [59/279] : done (11ms) \n",
      " block [60/279] : done (11ms) \n",
      " block [61/279] : done (12ms) \n",
      " block [62/279] : done (11ms) \n",
      " block [63/279] : done (11ms) \n",
      " block [64/279] : done (0ms) \n",
      "Chromosome 6 [13 blocks in total]\n",
      "   -reading loco predictions for the chromosome...done (2ms) \n",
      " block [65/279] : done (11ms) \n",
      " block [66/279] : done (10ms) \n",
      " block [67/279] : done (12ms) \n",
      " block [68/279] : done (13ms) \n",
      " block [69/279] : done (12ms) \n",
      " block [70/279] : done (12ms) \n",
      " block [71/279] : done (11ms) \n",
      " block [72/279] : done (12ms) \n",
      " block [73/279] : done (11ms) \n",
      " block [74/279] : done (11ms) \n",
      " block [75/279] : done (11ms) \n",
      " block [76/279] : done (12ms) \n",
      " block [77/279] : done (2ms) \n",
      "Chromosome 7 [13 blocks in total]\n",
      "   -reading loco predictions for the chromosome...done (2ms) \n",
      " block [78/279] : done (12ms) \n",
      " block [79/279] : done (11ms) \n",
      " block [80/279] : done (11ms) \n",
      " block [81/279] : done (12ms) \n",
      " block [82/279] : done (12ms) \n",
      " block [83/279] : done (12ms) \n",
      " block [84/279] : done (13ms) \n",
      " block [85/279] : done (12ms) \n",
      " block [86/279] : done (12ms) \n",
      " block [87/279] : done (12ms) \n",
      " block [88/279] : done (12ms) \n",
      " block [89/279] : done (12ms) \n",
      " block [90/279] : done (1ms) \n",
      "Chromosome 8 [12 blocks in total]\n",
      "   -reading loco predictions for the chromosome...done (2ms) \n",
      " block [91/279] : done (10ms) \n",
      " block [92/279] : done (9ms) \n",
      " block [93/279] : done (10ms) \n",
      " block [94/279] : done (10ms) \n",
      " block [95/279] : done (10ms) \n",
      " block [96/279] : done (10ms) \n",
      " block [97/279] : done (10ms) \n",
      " block [98/279] : done (10ms) \n",
      " block [99/279] : done (10ms) \n",
      " block [100/279] : done (10ms) \n",
      " block [101/279] : done (10ms) \n",
      " block [102/279] : done (7ms) \n",
      "Chromosome 9 [12 blocks in total]\n",
      "   -reading loco predictions for the chromosome...done (2ms) \n",
      " block [103/279] : done (10ms) \n",
      " block [104/279] : done (10ms) \n",
      " block [105/279] : done (10ms) \n",
      " block [106/279] : done (10ms) \n",
      " block [107/279] : done (10ms) \n",
      " block [108/279] : done (10ms) \n",
      " block [109/279] : done (10ms) \n",
      " block [110/279] : done (10ms) \n",
      " block [111/279] : done (10ms) \n",
      " block [112/279] : done (14ms) \n",
      " block [113/279] : done (17ms) \n",
      " block [114/279] : done (13ms) \n",
      "Chromosome 10 [13 blocks in total]\n",
      "   -reading loco predictions for the chromosome...done (3ms) \n",
      " block [115/279] : done (14ms) \n",
      " block [116/279] : done (13ms) \n",
      " block [117/279] : done (14ms) \n",
      " block [118/279] : done (13ms) \n",
      " block [119/279] : done (13ms) \n",
      " block [120/279] : done (13ms) \n",
      " block [121/279] : done (13ms) \n",
      " block [122/279] : done (16ms) \n",
      " block [123/279] : done (15ms) \n",
      " block [124/279] : done (18ms) \n",
      " block [125/279] : done (14ms) \n",
      " block [126/279] : done (14ms) \n",
      " block [127/279] : done (4ms) \n",
      "Chromosome 11 [12 blocks in total]\n",
      "   -reading loco predictions for the chromosome...done (3ms) \n",
      " block [128/279] : done (13ms) \n",
      " block [129/279] : done (12ms) \n",
      " block [130/279] : done (12ms) \n",
      " block [131/279] : done (12ms) \n",
      " block [132/279] : done (12ms) \n",
      " block [133/279] : done (11ms) \n",
      " block [134/279] : done (11ms) \n",
      " block [135/279] : done (11ms) \n",
      " block [136/279] : done (11ms) \n",
      " block [137/279] : done (11ms) \n",
      " block [138/279] : done (11ms) \n",
      " block [139/279] : done (10ms) \n",
      "Chromosome 12 [12 blocks in total]\n",
      "   -reading loco predictions for the chromosome...done (2ms) \n",
      " block [140/279] : done (10ms) \n",
      " block [141/279] : done (10ms) \n",
      " block [142/279] : done (9ms) \n",
      " block [143/279] : done (10ms) \n",
      " block [144/279] : done (10ms) \n",
      " block [145/279] : done (10ms) \n",
      " block [146/279] : done (10ms) \n",
      " block [147/279] : done (10ms) \n",
      " block [148/279] : done (9ms) \n",
      " block [149/279] : done (10ms) \n",
      " block [150/279] : done (10ms) \n",
      " block [151/279] : done (12ms) \n",
      "Chromosome 13 [13 blocks in total]\n",
      "   -reading loco predictions for the chromosome...done (3ms) \n",
      " block [152/279] : done (14ms) \n",
      " block [153/279] : done (12ms) \n",
      " block [154/279] : done (12ms) \n",
      " block [155/279] : done (12ms) \n",
      " block [156/279] : done (12ms) \n",
      " block [157/279] : done (12ms) \n",
      " block [158/279] : done (11ms) \n",
      " block [159/279] : done (11ms) \n",
      " block [160/279] : done (11ms) \n",
      " block [161/279] : done (11ms) \n",
      " block [162/279] : done (11ms) \n",
      " block [163/279] : done (10ms) \n",
      " block [164/279] : done (0ms) \n",
      "Chromosome 14 [12 blocks in total]\n",
      "   -reading loco predictions for the chromosome...done (2ms) \n",
      " block [165/279] : done (10ms) \n",
      " block [166/279] : done (10ms) \n",
      " block [167/279] : done (11ms) \n",
      " block [168/279] : done (12ms) \n",
      " block [169/279] : done (11ms) \n",
      " block [170/279] : done (11ms) \n",
      " block [171/279] : done (11ms) \n",
      " block [172/279] : done (12ms) \n",
      " block [173/279] : done (12ms) \n",
      " block [174/279] : done (11ms) \n",
      " block [175/279] : done (11ms) \n",
      " block [176/279] : done (10ms) \n",
      "Chromosome 15 [13 blocks in total]\n",
      "   -reading loco predictions for the chromosome...done (3ms) \n",
      " block [177/279] : done (11ms) \n",
      " block [178/279] : done (10ms) \n",
      " block [179/279] : done (10ms) \n",
      " block [180/279] : done (11ms) \n",
      " block [181/279] : done (11ms) \n",
      " block [182/279] : done (11ms) \n",
      " block [183/279] : done (10ms) \n",
      " block [184/279] : done (10ms) \n",
      " block [185/279] : done (10ms) \n",
      " block [186/279] : done (10ms) \n",
      " block [187/279] : done (10ms) \n",
      " block [188/279] : done (10ms) \n",
      " block [189/279] : done (0ms) \n",
      "Chromosome 16 [13 blocks in total]\n",
      "   -reading loco predictions for the chromosome...done (2ms) \n",
      " block [190/279] : done (11ms) \n",
      " block [191/279] : done (10ms) \n",
      " block [192/279] : done (10ms) \n",
      " block [193/279] : done (10ms) \n",
      " block [194/279] : done (10ms) \n",
      " block [195/279] : done (11ms) \n",
      " block [196/279] : done (10ms) \n",
      " block [197/279] : done (10ms) \n",
      " block [198/279] : done (10ms) \n",
      " block [199/279] : done (10ms) \n",
      " block [200/279] : done (10ms) \n",
      " block [201/279] : done (10ms) \n",
      " block [202/279] : done (1ms) \n",
      "Chromosome 17 [12 blocks in total]\n",
      "   -reading loco predictions for the chromosome...done (2ms) \n",
      " block [203/279] : done (9ms) \n",
      " block [204/279] : done (10ms) \n",
      " block [205/279] : done (10ms) \n",
      " block [206/279] : done (10ms) \n",
      " block [207/279] : done (10ms) \n",
      " block [208/279] : done (10ms) \n",
      " block [209/279] : done (10ms) \n",
      " block [210/279] : done (10ms) \n",
      " block [211/279] : done (10ms) \n",
      " block [212/279] : done (10ms) \n",
      " block [213/279] : done (10ms) \n",
      " block [214/279] : done (8ms) \n",
      "Chromosome 18 [13 blocks in total]\n",
      "   -reading loco predictions for the chromosome...done (3ms) \n",
      " block [215/279] : done (12ms) \n",
      " block [216/279] : done (12ms) \n",
      " block [217/279] : done (11ms) \n",
      " block [218/279] : done (14ms) \n",
      " block [219/279] : done (12ms) \n",
      " block [220/279] : done (11ms) \n",
      " block [221/279] : done (12ms) \n",
      " block [222/279] : done (13ms) \n",
      " block [223/279] : done (13ms) \n",
      " block [224/279] : done (13ms) \n",
      " block [225/279] : done (13ms) \n",
      " block [226/279] : done (13ms) \n",
      " block [227/279] : done (1ms) \n",
      "Chromosome 19 [13 blocks in total]\n",
      "   -reading loco predictions for the chromosome...done (3ms) \n",
      " block [228/279] : done (13ms) \n",
      " block [229/279] : done (13ms) \n",
      " block [230/279] : done (13ms) \n",
      " block [231/279] : done (13ms) \n",
      " block [232/279] : done (13ms) \n",
      " block [233/279] : done (13ms) \n",
      " block [234/279] : done (14ms) \n",
      " block [235/279] : done (16ms) \n",
      " block [236/279] : done (12ms) \n",
      " block [237/279] : done (18ms) \n",
      " block [238/279] : done (17ms) \n",
      " block [239/279] : done (20ms) \n",
      " block [240/279] : done (4ms) \n",
      "Chromosome 20 [13 blocks in total]\n",
      "   -reading loco predictions for the chromosome...done (3ms) \n",
      " block [241/279] : done (14ms) \n",
      " block [242/279] : done (14ms) \n",
      " block [243/279] : done (16ms) \n",
      " block [244/279] : done (18ms) \n",
      " block [245/279] : done (14ms) \n",
      " block [246/279] : done (17ms) \n",
      " block [247/279] : done (13ms) \n",
      " block [248/279] : done (17ms) \n",
      " block [249/279] : done (14ms) \n",
      " block [250/279] : done (13ms) \n",
      " block [251/279] : done (13ms) \n",
      " block [252/279] : done (13ms) \n",
      " block [253/279] : done (6ms) \n",
      "Chromosome 21 [13 blocks in total]\n",
      "   -reading loco predictions for the chromosome...done (3ms) \n",
      " block [254/279] : done (12ms) \n",
      " block [255/279] : done (11ms) \n",
      " block [256/279] : done (12ms) \n",
      " block [257/279] : done (11ms) \n",
      " block [258/279] : done (10ms) \n",
      " block [259/279] : done (10ms) \n",
      " block [260/279] : done (10ms) \n",
      " block [261/279] : done (10ms) \n",
      " block [262/279] : done (10ms) \n",
      " block [263/279] : done (9ms) \n",
      " block [264/279] : done (9ms) \n",
      " block [265/279] : done (10ms) \n",
      " block [266/279] : done (5ms) \n",
      "Chromosome 22 [13 blocks in total]\n",
      "   -reading loco predictions for the chromosome...done (2ms) \n",
      " block [267/279] : done (10ms) \n",
      " block [268/279] : done (10ms) \n",
      " block [269/279] : done (10ms) \n",
      " block [270/279] : done (10ms) \n",
      " block [271/279] : done (10ms) \n",
      " block [272/279] : done (10ms) \n",
      " block [273/279] : done (10ms) \n",
      " block [274/279] : done (10ms) \n",
      " block [275/279] : done (10ms) \n",
      " block [276/279] : done (12ms) \n",
      " block [277/279] : done (12ms) \n",
      " block [278/279] : done (12ms) \n",
      " block [279/279] : done (2ms) \n",
      "\n",
      "Association results stored separately for each trait in files : \n",
      "* [gwas_regenie_Pheno.regenie]\n",
      "\n",
      "Number of ignored tests due to low MAC : 0\n",
      "\n",
      "Elapsed time : 3.52735s\n",
      "End time: Tue Apr 25 10:45:39 2023\n",
      "\n"
     ]
    }
   ],
   "source": [
    "%%bash -s \"$REGENIE\" \"$D1_BFILE\" \"$D1_PHENO\"\n",
    "REGENIE=$1\n",
    "D1_BFILE=$2\n",
    "D1_PHENO=$3\n",
    "\n",
    "cmd=\"$REGENIE --bed $D1_BFILE \n",
    "    --phenoFile $D1_PHENO --phenoCol Pheno \n",
    "    --qt\n",
    "    --pred gwas_regenie_pred.list\n",
    "    --step 2 --bsize 400  \n",
    "    --out gwas_regenie\"\n",
    "     \n",
    "eval $cmd"
   ]
  },
  {
   "cell_type": "markdown",
   "id": "89560cc4",
   "metadata": {},
   "source": [
    "Read the association results into R."
   ]
  },
  {
   "cell_type": "code",
   "execution_count": 27,
   "id": "f9171bfd",
   "metadata": {},
   "outputs": [
    {
     "name": "stdout",
     "output_type": "stream",
     "text": [
      "tibble [106,134 × 13] (S3: tbl_df/tbl/data.frame)\n",
      " $ CHROM  : int [1:106134] 1 1 1 1 1 1 1 1 1 1 ...\n",
      " $ GENPOS : int [1:106134] 12000011 12000012 12000019 12000027 12000036 12000061 12000073 12000074 12000117 12000136 ...\n",
      " $ ID     : chr [1:106134] \"1:12000011:A:C\" \"1:12000012:A:C\" \"1:12000019:T:C\" \"1:12000027:C:T\" ...\n",
      " $ ALLELE0: chr [1:106134] \"C\" \"C\" \"C\" \"T\" ...\n",
      " $ ALLELE1: chr [1:106134] \"A\" \"A\" \"T\" \"C\" ...\n",
      " $ A1FREQ : num [1:106134] 0.12 0.187 0.402 0.12 0.415 ...\n",
      " $ N      : int [1:106134] 2400 2400 2400 2400 2400 2400 2400 2400 2400 2400 ...\n",
      " $ TEST   : chr [1:106134] \"ADD\" \"ADD\" \"ADD\" \"ADD\" ...\n",
      " $ BETA   : num [1:106134] -0.012356 -0.023444 -0.065985 -0.000682 0.008443 ...\n",
      " $ SE     : num [1:106134] 0.0416 0.0344 0.027 0.0413 0.0273 ...\n",
      " $ CHISQ  : num [1:106134] 0.088248 0.465507 5.97759 0.000272 0.09532 ...\n",
      " $ LOG10P : num [1:106134] 0.11553 0.30534 1.83897 0.00576 0.12061 ...\n",
      " $ EXTRA  : logi [1:106134] NA NA NA NA NA NA ...\n",
      " - attr(*, \".internal.selfref\")=<externalptr> \n"
     ]
    }
   ],
   "source": [
    "%%R\n",
    "assoc_regenie = fread('gwas_regenie_Pheno.regenie') %>% as_tibble\n",
    "str(assoc_regenie)"
   ]
  },
  {
   "cell_type": "code",
   "execution_count": 28,
   "id": "2d4c5d53",
   "metadata": {},
   "outputs": [
    {
     "name": "stdout",
     "output_type": "stream",
     "text": [
      "[1] 2.992954e-05 9.999914e-01\n"
     ]
    }
   ],
   "source": [
    "%%R\n",
    "assoc_regenie = within(assoc_regenie, P <- 10^(-LOG10P))\n",
    "range(assoc_regenie$P)"
   ]
  },
  {
   "cell_type": "code",
   "execution_count": 29,
   "id": "04060a79",
   "metadata": {},
   "outputs": [
    {
     "data": {
      "image/png": "[encoded data removed]"
     },
     "metadata": {},
     "output_type": "display_data"
    }
   ],
   "source": [
    "%%R\n",
    "# qq plot by qqman\n",
    "qq(assoc_regenie$P)"
   ]
  },
  {
   "cell_type": "code",
   "execution_count": 30,
   "id": "e78e1a99",
   "metadata": {},
   "outputs": [
    {
     "name": "stdout",
     "output_type": "stream",
     "text": [
      "[1] 0.9878988\n"
     ]
    }
   ],
   "source": [
    "%%R\n",
    "median(qchisq(assoc_regenie$P, df = 1, lower.tail = FALSE)) / qchisq(0.5, df = 1, lower.tail = FALSE)"
   ]
  }
 ],
 "metadata": {
  "kernelspec": {
   "display_name": "Python 3 (ipykernel)",
   "language": "python",
   "name": "python3"
  },
  "language_info": {
   "codemirror_mode": {
    "name": "ipython",
    "version": 3
   },
   "file_extension": ".py",
   "mimetype": "text/x-python",
   "name": "python",
   "nbconvert_exporter": "python",
   "pygments_lexer": "ipython3",
   "version": "3.9.7"
  },
  "toc": {
   "base_numbering": 1,
   "nav_menu": {},
   "number_sections": true,
   "sideBar": true,
   "skip_h1_title": false,
   "title_cell": "Table of Contents",
   "title_sidebar": "Contents",
   "toc_cell": false,
   "toc_position": {},
   "toc_section_display": true,
   "toc_window_display": true
  }
 },
 "nbformat": 4,
 "nbformat_minor": 5
}
