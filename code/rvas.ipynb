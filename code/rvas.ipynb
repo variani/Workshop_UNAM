{
 "cells": [
  {
   "cell_type": "markdown",
   "id": "d1c2127f",
   "metadata": {},
   "source": [
    "# Rare variant association study"
   ]
  },
  {
   "cell_type": "markdown",
   "id": "2c4248b4",
   "metadata": {},
   "source": [
    "The exercises in this notebook were adopted from: \n",
    "https://github.com/joellembatchou/SISG2022_Association_Mapping/blob/master/code/Session07_exercises.R"
   ]
  },
  {
   "cell_type": "markdown",
   "id": "bd274dce",
   "metadata": {},
   "source": [
    "# Set up"
   ]
  },
  {
   "cell_type": "markdown",
   "id": "ca4bc4d2",
   "metadata": {
    "heading_collapsed": true
   },
   "source": [
    "## Paths"
   ]
  },
  {
   "cell_type": "code",
   "execution_count": 2,
   "id": "9356d10c",
   "metadata": {
    "hidden": true
   },
   "outputs": [],
   "source": [
    "DIR_MAIN = '..'"
   ]
  },
  {
   "cell_type": "code",
   "execution_count": 3,
   "id": "688be616",
   "metadata": {
    "hidden": true
   },
   "outputs": [
    {
     "name": "stdout",
     "output_type": "stream",
     "text": [
      "Workshop_regeneron_UNAM_AZ.docx\n",
      "code\n",
      "data\n",
      "material\n",
      "notes\n",
      "slides\n",
      "tools\n",
      "~$rkshop_regeneron_UNAM_AZ.docx\n"
     ]
    }
   ],
   "source": [
    "%%bash -s \"$DIR_MAIN\"\n",
    "DIR_MAIN=$1\n",
    "\n",
    "ls $DIR_MAIN"
   ]
  },
  {
   "cell_type": "markdown",
   "id": "18e7cb33",
   "metadata": {},
   "source": [
    "## Tools"
   ]
  },
  {
   "cell_type": "markdown",
   "id": "cd299877",
   "metadata": {},
   "source": [
    "A list of tools: PLINK2."
   ]
  },
  {
   "cell_type": "code",
   "execution_count": 4,
   "id": "cb4d2b59",
   "metadata": {},
   "outputs": [],
   "source": [
    "PLINK = f'{DIR_MAIN}/tools/plink2'"
   ]
  },
  {
   "cell_type": "code",
   "execution_count": 5,
   "id": "b1d90532",
   "metadata": {},
   "outputs": [
    {
     "name": "stdout",
     "output_type": "stream",
     "text": [
      "PLINK v2.00a3.7 64-bit (24 Oct 2022)\n"
     ]
    }
   ],
   "source": [
    "%%bash -s \"$PLINK\"\n",
    "PLINK=$1\n",
    "\n",
    "$PLINK --version"
   ]
  },
  {
   "cell_type": "code",
   "execution_count": 6,
   "id": "92a38f69",
   "metadata": {},
   "outputs": [],
   "source": [
    "REGENIE='/usr/local/Caskroom/miniconda/base/envs/regenie/bin/regenie'"
   ]
  },
  {
   "cell_type": "code",
   "execution_count": 7,
   "id": "07bc23da",
   "metadata": {},
   "outputs": [
    {
     "name": "stdout",
     "output_type": "stream",
     "text": [
      "v3.2.6.gz\n"
     ]
    }
   ],
   "source": [
    "%%bash -s \"$REGENIE\"\n",
    "REGENIE=$1\n",
    "\n",
    "$REGENIE --version"
   ]
  },
  {
   "cell_type": "markdown",
   "id": "27c6abca",
   "metadata": {},
   "source": [
    "## Datasets"
   ]
  },
  {
   "cell_type": "code",
   "execution_count": 36,
   "id": "de21055b",
   "metadata": {},
   "outputs": [],
   "source": [
    "DIR_DATA = f'{DIR_MAIN}/data/'\n",
    "D1_BFILE = f'{DIR_DATA}/rv_geno_chr1'\n",
    "D1_PHENO = f'{DIR_DATA}/rv_pheno.txt'"
   ]
  },
  {
   "cell_type": "markdown",
   "id": "4cb13f7b",
   "metadata": {},
   "source": [
    "## R enviroment"
   ]
  },
  {
   "cell_type": "code",
   "execution_count": 9,
   "id": "8460c89f",
   "metadata": {},
   "outputs": [
    {
     "name": "stdout",
     "output_type": "stream",
     "text": [
      "R version 4.3.0 (2023-04-21) -- \"Already Tomorrow\"\n",
      "Copyright (C) 2023 The R Foundation for Statistical Computing\n",
      "Platform: x86_64-apple-darwin21.6.0 (64-bit)\n",
      "\n",
      "R is free software and comes with ABSOLUTELY NO WARRANTY.\n",
      "You are welcome to redistribute it under the terms of the\n",
      "GNU General Public License versions 2 or 3.\n",
      "For more information about these matters see\n",
      "https://www.gnu.org/licenses/.\n",
      "\n"
     ]
    }
   ],
   "source": [
    "%%bash\n",
    "R --version"
   ]
  },
  {
   "cell_type": "code",
   "execution_count": 10,
   "id": "e75d1970",
   "metadata": {},
   "outputs": [],
   "source": [
    " import rpy2.ipython"
   ]
  },
  {
   "cell_type": "code",
   "execution_count": 11,
   "id": "c55ea7aa",
   "metadata": {},
   "outputs": [],
   "source": [
    "%%capture\n",
    "%load_ext rpy2.ipython"
   ]
  },
  {
   "cell_type": "code",
   "execution_count": 12,
   "id": "ac33ed89",
   "metadata": {},
   "outputs": [
    {
     "name": "stdout",
     "output_type": "stream",
     "text": [
      "[1] \"Hello World from R!\"\n"
     ]
    }
   ],
   "source": [
    "%%R\n",
    " print('Hello World from R!')"
   ]
  },
  {
   "cell_type": "code",
   "execution_count": 15,
   "id": "9b492d04",
   "metadata": {},
   "outputs": [],
   "source": [
    "%%R\n",
    "library(tidyverse)\n",
    "library(data.table)"
   ]
  },
  {
   "cell_type": "code",
   "execution_count": 21,
   "id": "3119674b",
   "metadata": {},
   "outputs": [],
   "source": [
    "%%R\n",
    "library(BEDMatrix)\n",
    "library(SKAT)\n",
    "library(ACAT)"
   ]
  },
  {
   "cell_type": "markdown",
   "id": "e947546e",
   "metadata": {},
   "source": [
    "# RVAS on `rv_geno_chr1` dataset"
   ]
  },
  {
   "cell_type": "markdown",
   "id": "4f810e78",
   "metadata": {},
   "source": [
    "## Data preparation"
   ]
  },
  {
   "cell_type": "markdown",
   "id": "b9b732f1",
   "metadata": {},
   "source": [
    "Extract a subset of markers for downstream association testing and store a new bed/bam/file fileset."
   ]
  },
  {
   "cell_type": "code",
   "execution_count": 27,
   "id": "6a375ee3",
   "metadata": {},
   "outputs": [
    {
     "name": "stdout",
     "output_type": "stream",
     "text": [
      "PLINK v2.00a3.7 64-bit (24 Oct 2022)           www.cog-genomics.org/plink/2.0/\n",
      "(C) 2005-2022 Shaun Purcell, Christopher Chang   GNU General Public License v3\n",
      "Logging to rv_geno_chr1_subset.log.\n",
      "Options in effect:\n",
      "  --bfile ../data//rv_geno_chr1\n",
      "  --maj-ref force\n",
      "  --make-bed\n",
      "  --max-maf 0.01\n",
      "  --out rv_geno_chr1_subset\n",
      "\n",
      "Start time: Tue Apr 25 12:11:20 2023\n",
      "16384 MiB RAM detected; reserving 8192 MiB for main workspace.\n",
      "Using up to 12 threads (change this with --threads).\n",
      "9953 samples (4942 females, 5011 males; 9953 founders) loaded from\n",
      "../data//rv_geno_chr1.fam.\n",
      "78 variants loaded from ../data//rv_geno_chr1.bim.\n",
      "1 binary phenotype loaded (9953 cases, 0 controls).\n",
      "Calculating allele frequencies... 0%\b\b0%\b\bdone.\n",
      "23 variants removed due to allele frequency threshold(s)\n",
      "(--maf/--max-maf/--mac/--max-mac).\n",
      "55 variants remaining after main filters.\n",
      "Writing rv_geno_chr1_subset.fam ... done.\n",
      "Writing rv_geno_chr1_subset.bim ... done.\n",
      "Writing rv_geno_chr1_subset.bed ... 0%\b\bdone.\n",
      "End time: Tue Apr 25 12:11:20 2023\n"
     ]
    }
   ],
   "source": [
    "%%bash -s \"$PLINK\" \"$D1_BFILE\" \"$D1_PHENO\"\n",
    "PLINK=$1\n",
    "D1_BFILE=$2\n",
    "D1_PHENO=$3\n",
    "\n",
    "cmd=\"$PLINK --bfile $D1_BFILE \n",
    "    --max-maf 0.01 --maj-ref force\n",
    "    --make-bed --out rv_geno_chr1_subset\"\n",
    "eval $cmd"
   ]
  },
  {
   "cell_type": "markdown",
   "id": "649095c3",
   "metadata": {},
   "source": [
    "## Load genotypes into R"
   ]
  },
  {
   "cell_type": "code",
   "execution_count": 29,
   "id": "15dbcf28",
   "metadata": {},
   "outputs": [
    {
     "name": "stderr",
     "output_type": "stream",
     "text": [
      "R[write to console]: Extracting number of samples and rownames from rv_geno_chr1_subset.fam...\n",
      "\n",
      "R[write to console]: Extracting number of variants and colnames from rv_geno_chr1_subset.bim...\n",
      "\n"
     ]
    }
   ],
   "source": [
    "%%R \n",
    "bfile = 'rv_geno_chr1_subset'\n",
    "\n",
    "# genotypes are still stored in files \n",
    "# and can be loaded into RAM by small chunks \n",
    "g = BEDMatrix(bfile, simple_names = TRUE) \n",
    "\n",
    "# genotypes are converted to a regular R matrix and all data is in RAM\n",
    "# !NB! not recommended for real large datasets\n",
    "G = as.matrix(g)"
   ]
  },
  {
   "cell_type": "code",
   "execution_count": 30,
   "id": "d10be48e",
   "metadata": {},
   "outputs": [
    {
     "name": "stdout",
     "output_type": "stream",
     "text": [
      " int [1:9953, 1:55] 0 0 0 0 1 0 0 0 0 0 ...\n",
      " - attr(*, \"dimnames\")=List of 2\n",
      "  ..$ : chr [1:9953] \"5257\" \"4686\" \"5818\" \"659\" ...\n",
      "  ..$ : chr [1:55] \"1:12030946:T:C\" \"1:12032428:A:C\" \"1:12057950:C:T\" \"1:12095233:A:C\" ...\n"
     ]
    }
   ],
   "source": [
    "%%R\n",
    "str(G)"
   ]
  },
  {
   "cell_type": "code",
   "execution_count": 33,
   "id": "10d0b603",
   "metadata": {},
   "outputs": [
    {
     "name": "stdout",
     "output_type": "stream",
     "text": [
      "[1] 0.004872903 0.009745805\n"
     ]
    }
   ],
   "source": [
    "%%R\n",
    "mafs = colMeans(G, na.rm = TRUE) / 2\n",
    "range(mafs) "
   ]
  },
  {
   "cell_type": "code",
   "execution_count": 35,
   "id": "0d3462f6",
   "metadata": {},
   "outputs": [
    {
     "name": "stdout",
     "output_type": "stream",
     "text": [
      "[1]  97 194\n"
     ]
    }
   ],
   "source": [
    "%%R\n",
    "macs = colSums(G, na.rm = TRUE)\n",
    "range(macs)"
   ]
  },
  {
   "cell_type": "markdown",
   "id": "28ecc060",
   "metadata": {},
   "source": [
    "## Read phenotypes"
   ]
  },
  {
   "cell_type": "code",
   "execution_count": 39,
   "id": "e8a14e31",
   "metadata": {},
   "outputs": [
    {
     "name": "stdout",
     "output_type": "stream",
     "text": [
      "Classes ‘data.table’ and 'data.frame':\t9953 obs. of  3 variables:\n",
      " $ FID  : int  5257 4686 5818 659 8446 4546 1078 5766 4235 8186 ...\n",
      " $ IID  : int  5257 4686 5818 659 8446 4546 1078 5766 4235 8186 ...\n",
      " $ Pheno: num  0.7309 0.3837 -0.0347 -1.7831 -1.2133 ...\n",
      " - attr(*, \".internal.selfref\")=<externalptr> \n"
     ]
    }
   ],
   "source": [
    "%%R -i D1_PHENO\n",
    "phen = fread(D1_PHENO)\n",
    "str(phen)"
   ]
  },
  {
   "cell_type": "code",
   "execution_count": 40,
   "id": "72ae1896",
   "metadata": {},
   "outputs": [
    {
     "name": "stdout",
     "output_type": "stream",
     "text": [
      "`stat_bin()` using `bins = 30`. Pick better value with `binwidth`.\n"
     ]
    },
    {
     "data": {
      "image/png": "[encoded data removed]"
     },
     "metadata": {},
     "output_type": "display_data"
    }
   ],
   "source": [
    "%%R\n",
    "ggplot(phen, aes(Pheno)) + geom_histogram()"
   ]
  },
  {
   "cell_type": "markdown",
   "id": "3ab7ad8a",
   "metadata": {},
   "source": [
    "## Single-variant analysis by Plink"
   ]
  },
  {
   "cell_type": "code",
   "execution_count": 81,
   "id": "306f7452",
   "metadata": {},
   "outputs": [
    {
     "name": "stdout",
     "output_type": "stream",
     "text": [
      "PLINK v2.00a3.7 64-bit (24 Oct 2022)           www.cog-genomics.org/plink/2.0/\n",
      "(C) 2005-2022 Shaun Purcell, Christopher Chang   GNU General Public License v3\n",
      "Logging to gwas_sv.log.\n",
      "Options in effect:\n",
      "  --bfile rv_geno_chr1_subset\n",
      "  --glm allow-no-covars\n",
      "  --out gwas_sv\n",
      "  --pheno ../data//rv_pheno.txt\n",
      "  --pheno-name Pheno\n",
      "\n",
      "Start time: Tue Apr 25 15:07:27 2023\n",
      "16384 MiB RAM detected; reserving 8192 MiB for main workspace.\n",
      "Using up to 12 threads (change this with --threads).\n",
      "9953 samples (4942 females, 5011 males; 9953 founders) loaded from\n",
      "rv_geno_chr1_subset.fam.\n",
      "55 variants loaded from rv_geno_chr1_subset.bim.\n",
      "1 quantitative phenotype loaded (9949 values).\n",
      "Calculating allele frequencies... 0%\b\b0%\b\bdone.\n",
      "--glm linear regression on phenotype 'Pheno': 0%\b\b0%\b\bdone.\n",
      "Results written to gwas_sv.Pheno.glm.linear .\n",
      "End time: Tue Apr 25 15:07:27 2023\n"
     ]
    }
   ],
   "source": [
    "%%bash -s \"$PLINK\" \"$D1_PHENO\"\n",
    "PLINK=$1\n",
    "D1_PHENO=$2\n",
    "\n",
    "cmd=\"$PLINK --bfile rv_geno_chr1_subset\n",
    "    --pheno $D1_PHENO --pheno-name Pheno \n",
    "    --glm allow-no-covars --out gwas_sv\"\n",
    "eval $cmd"
   ]
  },
  {
   "cell_type": "markdown",
   "id": "ff56e7cf",
   "metadata": {},
   "source": [
    "Check the output file from Plink."
   ]
  },
  {
   "cell_type": "code",
   "execution_count": 82,
   "id": "0c71dcd5",
   "metadata": {},
   "outputs": [
    {
     "name": "stdout",
     "output_type": "stream",
     "text": [
      "ID              BETA        SE         T_STAT     P\n",
      "1:12030946:T:C  0.0556835   0.102067   0.545557   0.585383\n",
      "1:12032428:A:C  0.0641601   0.0772512  0.830538   0.406254\n",
      "1:12057950:C:T  -0.323574   0.0801934  -4.03492   5.50288e-05\n",
      "1:12095233:A:C  -0.0759753  0.0935782  -0.811891  0.416873\n",
      "1:12100532:T:C  -0.100285   0.0909501  -1.10264   0.270211\n",
      "1:12110879:T:C  0.00110483  0.0797892  0.0138469  0.988952\n",
      "1:12121069:G:A  0.120369    0.0905905  1.32872    0.183972\n",
      "1:12137783:C:T  0.070976    0.0805346  0.881311   0.378171\n",
      "1:12137898:T:C  0.0397444   0.0951887  0.417533   0.676297\n"
     ]
    }
   ],
   "source": [
    "%%bash \n",
    "head gwas_sv.Pheno.glm.linear | cut -f 3,9-12 | column -t"
   ]
  },
  {
   "cell_type": "code",
   "execution_count": 83,
   "id": "93593a08",
   "metadata": {},
   "outputs": [
    {
     "name": "stdout",
     "output_type": "stream",
     "text": [
      "tibble [55 × 13] (S3: tbl_df/tbl/data.frame)\n",
      " $ #CHROM : int [1:55] 1 1 1 1 1 1 1 1 1 1 ...\n",
      " $ POS    : int [1:55] 12030946 12032428 12057950 12095233 12100532 12110879 12121069 12137783 12137898 12143774 ...\n",
      " $ ID     : chr [1:55] \"1:12030946:T:C\" \"1:12032428:A:C\" \"1:12057950:C:T\" \"1:12095233:A:C\" ...\n",
      " $ REF    : chr [1:55] \"C\" \"C\" \"T\" \"C\" ...\n",
      " $ ALT    : chr [1:55] \"T\" \"A\" \"C\" \"A\" ...\n",
      " $ A1     : chr [1:55] \"T\" \"A\" \"C\" \"A\" ...\n",
      " $ TEST   : chr [1:55] \"ADD\" \"ADD\" \"ADD\" \"ADD\" ...\n",
      " $ OBS_CT : int [1:55] 9949 9949 9949 9949 9949 9949 9949 9949 9949 9949 ...\n",
      " $ BETA   : num [1:55] 0.0557 0.0642 -0.3236 -0.076 -0.1003 ...\n",
      " $ SE     : num [1:55] 0.1021 0.0773 0.0802 0.0936 0.091 ...\n",
      " $ T_STAT : num [1:55] 0.546 0.831 -4.035 -0.812 -1.103 ...\n",
      " $ P      : num [1:55] 0.585383 0.406254 0.000055 0.416873 0.270211 ...\n",
      " $ ERRCODE: chr [1:55] \".\" \".\" \".\" \".\" ...\n",
      " - attr(*, \".internal.selfref\")=<externalptr> \n"
     ]
    }
   ],
   "source": [
    "%%R\n",
    "assoc_plink = fread('gwas_sv.Pheno.glm.linear') %>% as_tibble\n",
    "str(assoc_plink)"
   ]
  },
  {
   "cell_type": "code",
   "execution_count": 84,
   "id": "f123e051",
   "metadata": {},
   "outputs": [
    {
     "data": {
      "image/png": "[encoded data removed]"
     },
     "metadata": {},
     "output_type": "display_data"
    }
   ],
   "source": [
    "%%R\n",
    "ggplot(assoc_plink, aes(BETA, -log10(P))) + geom_point() + geom_vline(xintercept = 0, linetype = 3)"
   ]
  },
  {
   "cell_type": "markdown",
   "id": "d646aabd",
   "metadata": {},
   "source": [
    "## Burden test"
   ]
  },
  {
   "cell_type": "markdown",
   "id": "b3fee9ee",
   "metadata": {},
   "source": [
    "Weighted burden test: for each individual, take a weighted count of the rare alleles across sites."
   ]
  },
  {
   "cell_type": "code",
   "execution_count": 85,
   "id": "f4113004",
   "metadata": {},
   "outputs": [
    {
     "name": "stdout",
     "output_type": "stream",
     "text": [
      "     1:12030946:T:C 1:12032428:A:C 1:12057950:C:T\n",
      "5257        0.00000              0              0\n",
      "4686        0.00000              0              0\n",
      "5818        0.00000              0              0\n",
      "659         0.00000              0              0\n",
      "8446       21.49225              0              0\n"
     ]
    }
   ],
   "source": [
    "%%R\n",
    "wts = dbeta(mafs, 1, 25)\n",
    "burden = G * wts\n",
    "burden[1:5, 1:3]"
   ]
  },
  {
   "cell_type": "code",
   "execution_count": 86,
   "id": "fad5ce63",
   "metadata": {},
   "outputs": [
    {
     "name": "stdout",
     "output_type": "stream",
     "text": [
      "\n",
      "FALSE  TRUE \n",
      " 4458  5495 \n"
     ]
    }
   ],
   "source": [
    "%%R\n",
    "score = rowSums(burden)\n",
    "table(score > 1)"
   ]
  },
  {
   "cell_type": "code",
   "execution_count": 87,
   "id": "1ae6e7c9",
   "metadata": {},
   "outputs": [
    {
     "name": "stdout",
     "output_type": "stream",
     "text": [
      "\n",
      "Call:\n",
      "lm(formula = phen$Pheno ~ score)\n",
      "\n",
      "Residuals:\n",
      "    Min      1Q  Median      3Q     Max \n",
      "-3.9509 -0.6895 -0.0010  0.6796  3.6603 \n",
      "\n",
      "Coefficients:\n",
      "             Estimate Std. Error t value Pr(>|t|)\n",
      "(Intercept) 0.0001835  0.0135912   0.014    0.989\n",
      "score       0.0007311  0.0005417   1.350    0.177\n",
      "\n",
      "Residual standard error: 1.01 on 9947 degrees of freedom\n",
      "  (4 observations deleted due to missingness)\n",
      "Multiple R-squared:  0.0001831,\tAdjusted R-squared:  8.258e-05 \n",
      "F-statistic: 1.822 on 1 and 9947 DF,  p-value: 0.1772\n",
      "\n"
     ]
    }
   ],
   "source": [
    "%%R\n",
    "fit = lm(phen$Pheno ~ score)\n",
    "summary(fit)"
   ]
  },
  {
   "cell_type": "markdown",
   "id": "2e98f8c6",
   "metadata": {},
   "source": [
    "The burden test (p-value ~ 0.2) seem to perform worse than single-variant tests (p-values up to 1e-4). What are possible explanations? How to improve the analysis?"
   ]
  },
  {
   "cell_type": "markdown",
   "id": "b7b50cbd",
   "metadata": {},
   "source": [
    "## SKAT"
   ]
  },
  {
   "cell_type": "code",
   "execution_count": 88,
   "id": "4f6cb374",
   "metadata": {},
   "outputs": [
    {
     "name": "stdout",
     "output_type": "stream",
     "text": [
      "List of 7\n",
      " $ p.value           : num 1.13e-10\n",
      " $ p.value.resampling: NULL\n",
      " $ Test.Type         : chr \"davies\"\n",
      " $ Q                 : num [1, 1] 4734150\n",
      " $ param             :List of 4\n",
      "  ..$ liu_pval     : num 1.13e-10\n",
      "  ..$ Is_Converged : num 0\n",
      "  ..$ n.marker     : int 55\n",
      "  ..$ n.marker.test: int 55\n",
      " $ pval.zero.msg     : NULL\n",
      " $ test.snp.mac      : Named num [1:55] 99 170 157 118 125 161 126 160 114 125 ...\n",
      "  ..- attr(*, \"names\")= chr [1:55] \"1:12030946:T:C\" \"1:12032428:A:C\" \"1:12057950:C:T\" \"1:12095233:A:C\" ...\n",
      " - attr(*, \"class\")= chr \"SKAT_OUT\"\n"
     ]
    }
   ],
   "source": [
    "%%R\n",
    "null_skat = SKAT_Null_Model(phen$Pheno ~ 1 , out_type = \"C\")\n",
    "res_skat = SKAT(G, null_skat)\n",
    "str(res_skat)"
   ]
  },
  {
   "cell_type": "markdown",
   "id": "752362c2",
   "metadata": {},
   "source": [
    "## SKAT-O"
   ]
  },
  {
   "cell_type": "code",
   "execution_count": 89,
   "id": "342a99a1",
   "metadata": {},
   "outputs": [
    {
     "name": "stdout",
     "output_type": "stream",
     "text": [
      "[1] 0.1415765\n"
     ]
    }
   ],
   "source": [
    "%%R\n",
    "# rho = 1 --> SKAT-O = burden\n",
    "res_skat_rho1 = SKAT(G, null_skat, r.corr = 1)\n",
    "res_skat_rho1$p.value"
   ]
  },
  {
   "cell_type": "code",
   "execution_count": 90,
   "id": "58a663f7",
   "metadata": {},
   "outputs": [
    {
     "name": "stdout",
     "output_type": "stream",
     "text": [
      "[1] 1.130662e-10\n"
     ]
    }
   ],
   "source": [
    "%%R\n",
    "# rho = 0 --> SKAT-O = SKAT or variance component test\n",
    "res_skat_rho1 = SKAT(G, null_skat, r.corr = 0)\n",
    "res_skat_rho1$p.value"
   ]
  },
  {
   "cell_type": "code",
   "execution_count": 91,
   "id": "8179ce3e",
   "metadata": {},
   "outputs": [
    {
     "name": "stdout",
     "output_type": "stream",
     "text": [
      "[1] 7.914634e-10\n"
     ]
    }
   ],
   "source": [
    "%%R\n",
    "# optimal rho\n",
    "res_skat_o = SKAT(G, null_skat, method = \"optimal.adj\")\n",
    "res_skat_o$p.value"
   ]
  },
  {
   "cell_type": "code",
   "execution_count": 93,
   "id": "986e5d4b",
   "metadata": {},
   "outputs": [
    {
     "name": "stdout",
     "output_type": "stream",
     "text": [
      "[1] 0.001096681\n"
     ]
    }
   ],
   "source": [
    "%%R\n",
    "wts_beta = dbeta(mafs, 1, 25)\n",
    "wts_acat <- wts_beta * wts_beta * mafs * (1 - mafs)\n",
    "\n",
    "ACAT(assoc_plink$P, weights = wts_acat)"
   ]
  },
  {
   "cell_type": "code",
   "execution_count": 94,
   "id": "a795f102",
   "metadata": {},
   "outputs": [
    {
     "name": "stdout",
     "output_type": "stream",
     "text": [
      "[1] 0.002314175\n"
     ]
    }
   ],
   "source": [
    "%%R\n",
    "min(assoc_plink$P) * nrow(assoc_plink)"
   ]
  }
 ],
 "metadata": {
  "kernelspec": {
   "display_name": "Python 3 (ipykernel)",
   "language": "python",
   "name": "python3"
  },
  "language_info": {
   "codemirror_mode": {
    "name": "ipython",
    "version": 3
   },
   "file_extension": ".py",
   "mimetype": "text/x-python",
   "name": "python",
   "nbconvert_exporter": "python",
   "pygments_lexer": "ipython3",
   "version": "3.9.7"
  },
  "toc": {
   "base_numbering": 1,
   "nav_menu": {},
   "number_sections": true,
   "sideBar": true,
   "skip_h1_title": false,
   "title_cell": "Table of Contents",
   "title_sidebar": "Contents",
   "toc_cell": false,
   "toc_position": {},
   "toc_section_display": true,
   "toc_window_display": true
  }
 },
 "nbformat": 4,
 "nbformat_minor": 5
}
