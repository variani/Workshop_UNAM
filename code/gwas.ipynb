{
 "cells": [
  {
   "cell_type": "markdown",
   "id": "de9b8a5c",
   "metadata": {},
   "source": [
    "# Set up"
   ]
  },
  {
   "cell_type": "markdown",
   "id": "28d83451",
   "metadata": {},
   "source": [
    "## Paths"
   ]
  },
  {
   "cell_type": "code",
   "execution_count": 51,
   "id": "9356d10c",
   "metadata": {},
   "outputs": [],
   "source": [
    "DIR_MAIN = '..'"
   ]
  },
  {
   "cell_type": "code",
   "execution_count": 56,
   "id": "1fb54761",
   "metadata": {},
   "outputs": [
    {
     "name": "stdout",
     "output_type": "stream",
     "text": [
      "code\n",
      "data\n",
      "material\n",
      "notes\n",
      "tools\n"
     ]
    }
   ],
   "source": [
    "%%bash -s \"$DIR_MAIN\"\n",
    "DIR_MAIN=$1\n",
    "\n",
    "ls $DIR_MAIN"
   ]
  },
  {
   "cell_type": "markdown",
   "id": "283b0518",
   "metadata": {},
   "source": [
    "## Tools"
   ]
  },
  {
   "cell_type": "markdown",
   "id": "8dacb4f6",
   "metadata": {},
   "source": [
    "A list of tools: PLINK2."
   ]
  },
  {
   "cell_type": "code",
   "execution_count": 4,
   "id": "cb4d2b59",
   "metadata": {},
   "outputs": [],
   "source": [
    "PLINK = f'{DIR_MAIN}/tools/plink2'"
   ]
  },
  {
   "cell_type": "code",
   "execution_count": 42,
   "id": "a5eb16b6",
   "metadata": {},
   "outputs": [
    {
     "name": "stdout",
     "output_type": "stream",
     "text": [
      "PLINK v2.00a3.7 64-bit (24 Oct 2022)\n"
     ]
    }
   ],
   "source": [
    "%%bash -s \"$PLINK\"\n",
    "PLINK=$1\n",
    "\n",
    "$PLINK --version"
   ]
  },
  {
   "cell_type": "code",
   "execution_count": 65,
   "id": "5573e51b",
   "metadata": {},
   "outputs": [],
   "source": [
    "REGENIE='/usr/local/Caskroom/miniconda/base/envs/regenie/bin/regenie'"
   ]
  },
  {
   "cell_type": "code",
   "execution_count": 67,
   "id": "97cb8e9e",
   "metadata": {},
   "outputs": [
    {
     "name": "stdout",
     "output_type": "stream",
     "text": [
      "v3.2.6.gz\n"
     ]
    }
   ],
   "source": [
    "%%bash -s \"$REGENIE\"\n",
    "REGENIE=$1\n",
    "\n",
    "$REGENIE --version"
   ]
  },
  {
   "cell_type": "markdown",
   "id": "5d5512b2",
   "metadata": {},
   "source": [
    "## Datasets"
   ]
  },
  {
   "cell_type": "code",
   "execution_count": 35,
   "id": "d99e2e04",
   "metadata": {},
   "outputs": [],
   "source": [
    "DIR_DATA = f'{DIR_MAIN}/data/'\n",
    "D1_PHENO = f'{DIR_DATA}/sim_rels_pheno.txt'\n",
    "D1_BFILE = f'{DIR_DATA}/sim_rels_geno'"
   ]
  },
  {
   "cell_type": "markdown",
   "id": "ac793cb1",
   "metadata": {},
   "source": [
    "## R enviroment"
   ]
  },
  {
   "cell_type": "code",
   "execution_count": 8,
   "id": "c37f7576",
   "metadata": {},
   "outputs": [
    {
     "name": "stdout",
     "output_type": "stream",
     "text": [
      "R version 4.2.2 (2022-10-31) -- \"Innocent and Trusting\"\n",
      "Copyright (C) 2022 The R Foundation for Statistical Computing\n",
      "Platform: x86_64-apple-darwin21.6.0 (64-bit)\n",
      "\n",
      "R is free software and comes with ABSOLUTELY NO WARRANTY.\n",
      "You are welcome to redistribute it under the terms of the\n",
      "GNU General Public License versions 2 or 3.\n",
      "For more information about these matters see\n",
      "https://www.gnu.org/licenses/.\n",
      "\n"
     ]
    }
   ],
   "source": [
    "%%bash\n",
    "R --version"
   ]
  },
  {
   "cell_type": "code",
   "execution_count": 9,
   "id": "eb2452a3",
   "metadata": {},
   "outputs": [],
   "source": [
    " import rpy2.ipython"
   ]
  },
  {
   "cell_type": "code",
   "execution_count": 10,
   "id": "7672936d",
   "metadata": {},
   "outputs": [],
   "source": [
    "%%capture\n",
    "%load_ext rpy2.ipython"
   ]
  },
  {
   "cell_type": "code",
   "execution_count": 19,
   "id": "aed60829",
   "metadata": {},
   "outputs": [
    {
     "name": "stdout",
     "output_type": "stream",
     "text": [
      "[1] \"Hello World from R!\"\n"
     ]
    }
   ],
   "source": [
    "%%R\n",
    " print('Hello World from R!')"
   ]
  },
  {
   "cell_type": "code",
   "execution_count": 57,
   "id": "d2c1b07b",
   "metadata": {},
   "outputs": [],
   "source": [
    "%%R\n",
    "library(tidyverse)\n",
    "library(data.table)"
   ]
  },
  {
   "cell_type": "code",
   "execution_count": 60,
   "id": "6b3c4e9f",
   "metadata": {},
   "outputs": [],
   "source": [
    "%%R\n",
    "library(qqman)"
   ]
  },
  {
   "cell_type": "markdown",
   "id": "876d4d53",
   "metadata": {},
   "source": [
    "## Datasets"
   ]
  },
  {
   "cell_type": "markdown",
   "id": "0eee2998",
   "metadata": {},
   "source": [
    "# GWAS on simulated dataset 1"
   ]
  },
  {
   "cell_type": "markdown",
   "id": "d1b6a41a",
   "metadata": {},
   "source": [
    "## Exploratory data analysis before GWAS"
   ]
  },
  {
   "cell_type": "markdown",
   "id": "a9e0879d",
   "metadata": {},
   "source": [
    "1. What is the sample size? \n",
    "2. What is the ditribution of phenotype? \n",
    "    - Is it binary or quantitative? \n",
    "    - If it is quantitative, does the distribution look normal?"
   ]
  },
  {
   "cell_type": "code",
   "execution_count": 47,
   "id": "20e49783",
   "metadata": {},
   "outputs": [
    {
     "name": "stdout",
     "output_type": "stream",
     "text": [
      "tibble [2,400 × 3] (S3: tbl_df/tbl/data.frame)\n",
      " $ FID  : int [1:2400] 2307 379 478 1545 990 1907 369 1694 2137 2314 ...\n",
      " $ IID  : int [1:2400] 2307 379 478 1545 990 1907 369 1694 2137 2314 ...\n",
      " $ Pheno: num [1:2400] 0.00999 -1.45253 0.11097 1.11363 -0.20993 ...\n",
      " - attr(*, \".internal.selfref\")=<externalptr> \n"
     ]
    }
   ],
   "source": [
    "%%R -i D1_PHENO\n",
    "phen = fread(D1_PHENO) %>% as_tibble\n",
    "str(phen)"
   ]
  },
  {
   "cell_type": "code",
   "execution_count": 26,
   "id": "7f059872",
   "metadata": {},
   "outputs": [
    {
     "name": "stdout",
     "output_type": "stream",
     "text": [
      "`stat_bin()` using `bins = 30`. Pick better value with `binwidth`.\n"
     ]
    },
    {
     "data": {
      "image/png": "[encoded data removed]"
     },
     "metadata": {},
     "output_type": "display_data"
    }
   ],
   "source": [
    "%%R\n",
    "ggplot(phen, aes(Pheno)) + geom_histogram()"
   ]
  },
  {
   "cell_type": "markdown",
   "id": "3d1a8b29",
   "metadata": {},
   "source": [
    "## Run GWAS using Plink"
   ]
  },
  {
   "cell_type": "code",
   "execution_count": 49,
   "id": "c915c449",
   "metadata": {},
   "outputs": [
    {
     "name": "stdout",
     "output_type": "stream",
     "text": [
      "PLINK v2.00a3.7 64-bit (24 Oct 2022)           www.cog-genomics.org/plink/2.0/\n",
      "(C) 2005-2022 Shaun Purcell, Christopher Chang   GNU General Public License v3\n",
      "Logging to gwas_plink.log.\n",
      "Options in effect:\n",
      "  --bfile ../data//sim_rels_geno\n",
      "  --geno 0.1\n",
      "  --glm allow-no-covars\n",
      "  --hwe 1e-10\n",
      "  --maf 0.01\n",
      "  --out gwas_plink\n",
      "  --pheno ../data//sim_rels_pheno.txt\n",
      "  --pheno-name Pheno\n",
      "\n",
      "Start time: Fri Apr 21 15:41:13 2023\n",
      "16384 MiB RAM detected; reserving 8192 MiB for main workspace.\n",
      "Using up to 12 threads (change this with --threads).\n",
      "2400 samples (1179 females, 1221 males; 2400 founders) loaded from\n",
      "../data//sim_rels_geno.fam.\n",
      "106134 variants loaded from ../data//sim_rels_geno.bim.\n",
      "1 quantitative phenotype loaded (2400 values).\n",
      "Calculating allele frequencies... 0%\b\b61%\b\b\bdone.\n",
      "--geno: 0 variants removed due to missing genotype data.\n",
      "--hwe: 0 variants removed due to Hardy-Weinberg exact test (founders only).\n",
      "125 variants removed due to allele frequency threshold(s)\n",
      "(--maf/--max-maf/--mac/--max-mac).\n",
      "106009 variants remaining after main filters.\n",
      "--glm linear regression on phenotype 'Pheno': 0%\b\b61%\b\b\bdone.\n",
      "Results written to gwas_plink.Pheno.glm.linear .\n",
      "End time: Fri Apr 21 15:41:13 2023\n"
     ]
    }
   ],
   "source": [
    "%%bash -s \"$PLINK\" \"$D1_BFILE\" \"$D1_PHENO\"\n",
    "PLINK=$1\n",
    "D1_BFILE=$2\n",
    "D1_PHENO=$3\n",
    "\n",
    "cmd=\"$PLINK --bfile $D1_BFILE \n",
    "    --pheno $D1_PHENO --pheno-name Pheno \n",
    "    --maf 0.01 --geno 0.1 --hwe 1e-10 \n",
    "    --glm allow-no-covars --out gwas_plink\"\n",
    "eval $cmd\n"
   ]
  },
  {
   "cell_type": "markdown",
   "id": "b7f1145a",
   "metadata": {},
   "source": [
    "Check the output file."
   ]
  },
  {
   "cell_type": "code",
   "execution_count": 50,
   "id": "dc2b31c7",
   "metadata": {},
   "outputs": [
    {
     "name": "stdout",
     "output_type": "stream",
     "text": [
      "ID              BETA         SE         T_STAT     P\n",
      "1:12000011:A:C  0.0122331    0.0437981  0.279307   0.780034\n",
      "1:12000012:A:C  -0.0179816   0.0361811  -0.496988  0.619243\n",
      "1:12000019:T:C  -0.0848826   0.028367   -2.99231   0.00279703\n",
      "1:12000027:C:T  0.0125431    0.0434929  0.288394   0.77307\n",
      "1:12000036:G:A  0.0111345    0.0287975  0.386647   0.699052\n",
      "1:12000061:C:T  -0.00781173  0.0305395  -0.255791  0.798134\n",
      "1:12000073:C:T  -0.12345     0.0571993  -2.15825   0.0310072\n",
      "1:12000074:A:C  -0.0319143   0.0302438  -1.05523   0.291425\n",
      "1:12000117:G:A  0.00668323   0.0282828  0.2363     0.81322\n"
     ]
    }
   ],
   "source": [
    "%%bash \n",
    "head gwas_plink.Pheno.glm.linear | cut -f 3,9-12 | column -t"
   ]
  },
  {
   "cell_type": "markdown",
   "id": "28f69432",
   "metadata": {},
   "source": [
    "Read the association results into R for further analysis."
   ]
  },
  {
   "cell_type": "code",
   "execution_count": 61,
   "id": "6937dd37",
   "metadata": {},
   "outputs": [
    {
     "name": "stdout",
     "output_type": "stream",
     "text": [
      "tibble [106,009 × 13] (S3: tbl_df/tbl/data.frame)\n",
      " $ #CHROM : int [1:106009] 1 1 1 1 1 1 1 1 1 1 ...\n",
      " $ POS    : int [1:106009] 12000011 12000012 12000019 12000027 12000036 12000061 12000073 12000074 12000117 12000136 ...\n",
      " $ ID     : chr [1:106009] \"1:12000011:A:C\" \"1:12000012:A:C\" \"1:12000019:T:C\" \"1:12000027:C:T\" ...\n",
      " $ REF    : chr [1:106009] \"C\" \"C\" \"C\" \"T\" ...\n",
      " $ ALT    : chr [1:106009] \"A\" \"A\" \"T\" \"C\" ...\n",
      " $ A1     : chr [1:106009] \"A\" \"A\" \"T\" \"C\" ...\n",
      " $ TEST   : chr [1:106009] \"ADD\" \"ADD\" \"ADD\" \"ADD\" ...\n",
      " $ OBS_CT : int [1:106009] 2400 2400 2400 2400 2400 2400 2400 2400 2400 2400 ...\n",
      " $ BETA   : num [1:106009] 0.0122 -0.018 -0.0849 0.0125 0.0111 ...\n",
      " $ SE     : num [1:106009] 0.0438 0.0362 0.0284 0.0435 0.0288 ...\n",
      " $ T_STAT : num [1:106009] 0.279 -0.497 -2.992 0.288 0.387 ...\n",
      " $ P      : num [1:106009] 0.78 0.6192 0.0028 0.7731 0.6991 ...\n",
      " $ ERRCODE: chr [1:106009] \".\" \".\" \".\" \".\" ...\n",
      " - attr(*, \".internal.selfref\")=<externalptr> \n"
     ]
    }
   ],
   "source": [
    "%%R\n",
    "assoc = fread('gwas_plink.Pheno.glm.linear') %>% as_tibble\n",
    "str(assoc)"
   ]
  },
  {
   "cell_type": "code",
   "execution_count": 62,
   "id": "2b88bbef",
   "metadata": {},
   "outputs": [
    {
     "data": {
      "image/png": "[encoded data removed]"
     },
     "metadata": {},
     "output_type": "display_data"
    }
   ],
   "source": [
    "%%R\n",
    "# qq plot by qqman\n",
    "qq(assoc$P)"
   ]
  },
  {
   "cell_type": "code",
   "execution_count": 64,
   "id": "813db9b6",
   "metadata": {},
   "outputs": [
    {
     "name": "stdout",
     "output_type": "stream",
     "text": [
      "[1] 1.148994\n"
     ]
    }
   ],
   "source": [
    "%%R\n",
    "median(qchisq(assoc$P, df = 1, lower.tail = FALSE)) / qchisq(0.5, df = 1, lower.tail = FALSE)"
   ]
  }
 ],
 "metadata": {
  "kernelspec": {
   "display_name": "Python 3 (ipykernel)",
   "language": "python",
   "name": "python3"
  },
  "language_info": {
   "codemirror_mode": {
    "name": "ipython",
    "version": 3
   },
   "file_extension": ".py",
   "mimetype": "text/x-python",
   "name": "python",
   "nbconvert_exporter": "python",
   "pygments_lexer": "ipython3",
   "version": "3.9.7"
  },
  "toc": {
   "base_numbering": 1,
   "nav_menu": {},
   "number_sections": true,
   "sideBar": true,
   "skip_h1_title": false,
   "title_cell": "Table of Contents",
   "title_sidebar": "Contents",
   "toc_cell": false,
   "toc_position": {},
   "toc_section_display": true,
   "toc_window_display": false
  }
 },
 "nbformat": 4,
 "nbformat_minor": 5
}
